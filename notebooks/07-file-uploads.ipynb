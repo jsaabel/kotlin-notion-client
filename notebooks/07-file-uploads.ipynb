{
 "cells": [
  {
   "cell_type": "markdown",
   "metadata": {},
   "source": "# File Uploads and Media\n\nThis notebook covers uploading files and working with media in Notion:\n- Understanding the enhanced file upload API\n- Uploading small files with progress tracking\n- Importing files from external URLs\n- Adding uploaded files to pages (images, PDFs, files)\n- Using external media without uploading\n- Error handling and best practices\n\n## Prerequisites\n\nMake sure you have set these environment variables:\n- `NOTION_API_TOKEN` - Your Notion integration token\n- `NOTION_TEST_PAGE_ID` - A test page ID where we can create test pages"
  },
  {
   "cell_type": "markdown",
   "metadata": {},
   "source": "## Setup: Load Dependencies and Initialize Client"
  },
  {
   "cell_type": "code",
   "metadata": {
    "ExecuteTime": {
     "end_time": "2025-10-23T08:41:18.000923Z",
     "start_time": "2025-10-23T08:41:17.464517Z"
    }
   },
   "source": "// Load the Kotlin Notion Client library from Maven Central\n@file:DependsOn(\"it.saabel:kotlin-notion-client:0.1.0\")\n\n// Import necessary classes\nimport it.saabel.kotlinnotionclient.NotionClient\nimport it.saabel.kotlinnotionclient.models.files.*\nimport kotlinx.coroutines.runBlocking\nimport kotlinx.coroutines.delay\n\n// Initialize the client\nval apiToken = System.getenv(\"NOTION_API_TOKEN\")\n    ?: error(\"❌ NOTION_API_TOKEN environment variable not set\")\n\nval parentPageId = System.getenv(\"NOTION_TEST_PAGE_ID\")\n    ?: error(\"❌ NOTION_TEST_PAGE_ID environment variable not set\")\n\nval notion = NotionClient(apiToken)\n\nprintln(\"✅ NotionClient initialized successfully!\")",
   "outputs": [
    {
     "name": "stdout",
     "output_type": "stream",
     "text": [
      "✅ NotionClient initialized successfully!\n"
     ]
    }
   ],
   "execution_count": 1
  },
  {
   "cell_type": "markdown",
   "metadata": {},
   "source": "## Understanding File Uploads in Notion\n\nThe Kotlin Notion Client provides two file upload APIs:\n\n1. **Enhanced API** (`notion.enhancedFileUploads`) - **Recommended**\n   - Automatic single-part vs multi-part detection\n   - Built-in progress tracking\n   - Retry logic and error recovery\n   - Simple, production-ready API\n\n2. **Basic API** (`notion.fileUploads`) - **Advanced Control**\n   - Manual control over upload parameters\n   - Direct access to Notion's low-level API\n   - For custom upload logic\n\nIn this notebook, we'll focus on the enhanced API which handles most use cases automatically.\n\n### File Size Limits\n- **Free workspaces**: 5 MiB per file\n- **Paid workspaces**: 5 GiB per file\n- **Multi-part threshold**: Files > 20 MiB automatically use multi-part upload"
  },
  {
   "cell_type": "markdown",
   "source": "## Example 1: Simple File Upload with Progress Tracking\n\nLet's start by uploading a small text file and tracking its progress.",
   "metadata": {}
  },
  {
   "metadata": {
    "ExecuteTime": {
     "end_time": "2025-10-23T08:41:27.354611Z",
     "start_time": "2025-10-23T08:41:24.157333Z"
    }
   },
   "cell_type": "code",
   "source": "// Create test content\nval testContent = \"\"\"\n    Notion File Upload Example\n    ==========================\n    \n    This file was uploaded using the Enhanced File Upload API.\n    \n    Features demonstrated:\n    - Simple upload from byte array\n    - Progress tracking with callbacks\n    - Automatic content-type detection\n    \n    Timestamp: ${System.currentTimeMillis()}\n\"\"\".trimIndent()\n\n// Track progress updates\nval progressUpdates = mutableListOf<String>()\n\n// Configure upload with progress tracking\nval options = FileUploadOptions(\n    progressCallback = { progress ->\n        val message = \"${progress.status}: ${String.format(\"%.1f\", progress.progressPercent)}%\"\n        progressUpdates.add(message)\n        println(\"📊 $message\")\n    }\n)\n\n// Upload the file\nval result = runBlocking {\n    notion.enhancedFileUploads.uploadFile(\n        filename = \"example-document.txt\",\n        data = testContent.toByteArray(),\n        options = options\n    )\n}\n\n// Check the result\nwhen (result) {\n    is FileUploadResult.Success -> {\n        println(\"\\n✅ File uploaded successfully!\")\n        println(\"   File ID: ${result.uploadId}\")\n        println(\"   Filename: ${result.filename}\")\n        println(\"   Upload time: ${result.uploadTimeMs}ms\")\n        println(\"   Progress updates: ${progressUpdates.size}\")\n    }\n    is FileUploadResult.Failure -> {\n        println(\"\\n❌ Upload failed: ${result.error.message}\")\n    }\n}",
   "outputs": [
    {
     "name": "stdout",
     "output_type": "stream",
     "text": [
      "📊 STARTING: 0.0%\n",
      "📊 UPLOADING: 0.0%\n",
      "📊 COMPLETED: 100.0%\n",
      "\n",
      "✅ File uploaded successfully!\n",
      "   File ID: 295c63fd-82ed-819b-9cb7-00b2124b5939\n",
      "   Filename: example-document.txt\n",
      "   Upload time: 2934ms\n",
      "   Progress updates: 3\n"
     ]
    }
   ],
   "execution_count": 2
  },
  {
   "cell_type": "markdown",
   "source": "## Example 2: Using Uploaded Files in Pages\n\nOnce a file is uploaded, we can reference it in pages using file blocks. Let's create a page that includes the file we just uploaded.",
   "metadata": {}
  },
  {
   "metadata": {},
   "cell_type": "code",
   "source": "// Only proceed if the upload was successful\nvar uploadedFilePage: it.saabel.kotlinnotionclient.models.pages.Page? = null\n\nif (result is FileUploadResult.Success) {\n    val page = runBlocking {\n        notion.pages.create {\n            parent.page(parentPageId)\n            title(\"File Upload Example\")\n            \n            content {\n                heading1(\"Uploaded File Demo\")\n                paragraph(\"This page demonstrates using an uploaded file in Notion.\")\n                \n                divider()\n                \n                heading2(\"File Details\")\n                bullet(\"Filename: ${result.filename}\")\n                bullet(\"Upload time: ${result.uploadTimeMs}ms\")\n                bullet(\"File ID: ${result.uploadId}\")\n                \n                divider()\n                \n                heading2(\"The Uploaded File\")\n                paragraph(\"Here's the file we uploaded:\")\n                \n                // Reference the uploaded file\n                fileFromUpload(\n                    fileUploadId = result.fileUpload.id,\n                    name = result.filename,\n                    caption = \"Uploaded using the Enhanced File Upload API\"\n                )\n            }\n            \n            icon.emoji(\"📤\")\n        }\n    }\n    \n    println(\"\\n✅ Page created with uploaded file!\")\n    println(\"   Page ID: ${page.id}\")\n    println(\"   URL: ${page.url}\")\n    \n    uploadedFilePage = page\n} else {\n    println(\"⚠️  Skipping page creation since upload failed\")\n}",
   "outputs": [],
   "execution_count": null
  },
  {
   "cell_type": "markdown",
   "metadata": {},
   "source": "## Example 3: Import File from External URL\n\nYou can also import files from external URLs without manually downloading them first. This is useful for importing publicly accessible files."
  },
  {
   "metadata": {},
   "cell_type": "code",
   "source": "// Import a PDF from an external URL\nval externalResult = runBlocking {\n    notion.enhancedFileUploads.importExternalFile(\n        filename = \"sample-pdf\",\n        externalUrl = \"https://www.w3.org/WAI/ER/tests/xhtml/testfiles/resources/pdf/dummy.pdf\",\n        contentType = \"application/pdf\"\n    )\n}\n\nwhen (externalResult) {\n    is FileUploadResult.Success -> {\n        println(\"✅ External file imported successfully!\")\n        println(\"   File ID: ${externalResult.uploadId}\")\n        println(\"   Filename: ${externalResult.filename}\")\n        \n        // Wait for the file to be fully processed\n        runBlocking {\n            delay(2000) // Give Notion time to process the external file\n        }\n        \n        println(\"   File is ready to use\")\n    }\n    is FileUploadResult.Failure -> {\n        println(\"❌ Import failed: ${externalResult.error.message}\")\n    }\n}",
   "outputs": [],
   "execution_count": null
  },
  {
   "metadata": {
    "ExecuteTime": {
     "end_time": "2025-10-17T07:05:15.230019Z",
     "start_time": "2025-10-17T07:05:14.435524Z"
    }
   },
   "cell_type": "markdown",
   "source": "## Example 4: Create a Page with the Imported PDF\n\nLet's create a page that displays the imported PDF."
  },
  {
   "cell_type": "code",
   "metadata": {},
   "source": "var importedPdfPage: it.saabel.kotlinnotionclient.models.pages.Page? = null\n\nif (externalResult is FileUploadResult.Success) {\n    val pdfPage = runBlocking {\n        notion.pages.create {\n            parent.page(parentPageId)\n            title(\"External PDF Import Example\")\n            \n            content {\n                heading1(\"External File Import\")\n                paragraph(\"This page demonstrates importing a file from an external URL.\")\n                \n                callout(\"🌐\") {\n                    text(\"External imports require HTTPS URLs and the file must be publicly accessible.\")\n                }\n                \n                divider()\n                \n                heading2(\"Imported PDF Document\")\n                paragraph(\"Here's the PDF imported from an external URL:\")\n                \n                // Display the imported PDF\n                pdfFromUpload(\n                    fileUploadId = externalResult.fileUpload.id,\n                    caption = \"Sample PDF imported from W3C test files\"\n                )\n            }\n            \n            icon.emoji(\"📄\")\n        }\n    }\n    \n    println(\"\\n✅ Page created with imported PDF!\")\n    println(\"   Page ID: ${pdfPage.id}\")\n    println(\"   URL: ${pdfPage.url}\")\n    \n    importedPdfPage = pdfPage\n} else {\n    println(\"⚠️  Skipping PDF page creation since import failed\")\n}",
   "outputs": [],
   "execution_count": null
  },
  {
   "metadata": {
    "ExecuteTime": {
     "end_time": "2025-10-17T07:05:20.525789Z",
     "start_time": "2025-10-17T07:05:20.002150Z"
    }
   },
   "cell_type": "markdown",
   "source": "## Example 5: Using External Media (Without Upload)\n\nYou can also embed images and videos from external URLs directly without uploading them to Notion. This is useful for content hosted elsewhere."
  },
  {
   "cell_type": "code",
   "metadata": {},
   "source": "val externalMediaPage = runBlocking {\n    notion.pages.create {\n        parent.page(parentPageId)\n        title(\"External Media Examples\")\n        \n        content {\n            heading1(\"External Media Demo\")\n            paragraph(\"This page demonstrates embedding external media without uploading.\")\n            \n            divider()\n            \n            heading2(\"External Image\")\n            paragraph(\"Images can be embedded directly from external URLs:\")\n            \n            // Embed an external image\n            image(\n                url = \"https://images.unsplash.com/photo-1551033406-611cf9a28f67\",\n                caption = \"Photo from Unsplash - embedded via external URL\"\n            )\n            \n            divider()\n            \n            heading2(\"External Video\")\n            paragraph(\"Videos can also be embedded from external sources:\")\n            \n            // Embed an external video\n            video(\n                url = \"https://www.youtube.com/watch?v=dQw4w9WgXcQ\",\n                caption = \"YouTube video embedded via external URL\"\n            )\n            \n            divider()\n            \n            callout(\"💡\") {\n                text(\"External media is not uploaded to Notion - it's embedded from the original URL. \")\n                text(\"Make sure the URLs remain accessible!\")\n            }\n        }\n        \n        icon.emoji(\"🎬\")\n    }\n}\n\nprintln(\"✅ Page created with external media!\")\nprintln(\"   Page ID: ${externalMediaPage.id}\")\nprintln(\"   URL: ${externalMediaPage.url}\")",
   "outputs": [],
   "execution_count": null
  },
  {
   "metadata": {
    "ExecuteTime": {
     "end_time": "2025-10-17T07:05:27.119870Z",
     "start_time": "2025-10-17T07:05:25.081922Z"
    }
   },
   "cell_type": "markdown",
   "source": "## Example 6: Error Handling\n\nFile uploads can fail for various reasons. Let's demonstrate how to handle errors gracefully."
  },
  {
   "metadata": {},
   "cell_type": "code",
   "source": "// Try to import from an invalid URL (non-HTTPS)\nval errorResult = runBlocking {\n    notion.enhancedFileUploads.importExternalFile(\n        filename = \"invalid-url-test\",\n        externalUrl = \"http://example.com/file.pdf\", // HTTP not allowed - must be HTTPS\n        contentType = \"application/pdf\"\n    )\n}\n\n// Handle the result\nwhen (errorResult) {\n    is FileUploadResult.Success -> {\n        println(\"✅ Unexpected success: ${errorResult.uploadId}\")\n    }\n    is FileUploadResult.Failure -> {\n        println(\"❌ Expected failure occurred:\")\n        println(\"   Filename: ${errorResult.filename}\")\n        \n        // Handle specific error types\n        when (val error = errorResult.error) {\n            is FileUploadError.ValidationError -> {\n                println(\"   Error type: Validation Error\")\n                println(\"   Message: ${error.message}\")\n                println(\"   ℹ️  This is expected - HTTP URLs are not allowed, only HTTPS\")\n            }\n            is FileUploadError.NetworkError -> {\n                println(\"   Error type: Network Error\")\n                println(\"   Message: ${error.message}\")\n            }\n            is FileUploadError.RateLimitError -> {\n                println(\"   Error type: Rate Limit\")\n                println(\"   Retry after: ${error.retryAfterSeconds} seconds\")\n            }\n            else -> {\n                println(\"   Error type: ${error::class.simpleName}\")\n                println(\"   Message: ${error.message}\")\n            }\n        }\n    }\n}",
   "outputs": [],
   "execution_count": null
  },
  {
   "metadata": {
    "ExecuteTime": {
     "end_time": "2025-10-17T07:05:31.785382Z",
     "start_time": "2025-10-17T07:05:31.385049Z"
    }
   },
   "cell_type": "markdown",
   "source": "## Cleanup\n\nLet's clean up by archiving the test pages we created."
  },
  {
   "metadata": {},
   "cell_type": "code",
   "source": "runBlocking {\n    // Archive all test pages\n    uploadedFilePage?.let { page ->\n        try {\n            notion.pages.archive(page.id)\n            println(\"✅ Archived: File upload example page\")\n        } catch (e: Exception) {\n            println(\"⚠️  Could not archive uploaded file page: ${e.message}\")\n        }\n    }\n    \n    importedPdfPage?.let { page ->\n        try {\n            notion.pages.archive(page.id)\n            println(\"✅ Archived: External PDF import page\")\n        } catch (e: Exception) {\n            println(\"⚠️  Could not archive PDF page: ${e.message}\")\n        }\n    }\n    \n    try {\n        notion.pages.archive(externalMediaPage.id)\n        println(\"✅ Archived: External media page\")\n    } catch (e: Exception) {\n        println(\"⚠️  Could not archive media page: ${e.message}\")\n    }\n}\n\nprintln(\"\\n🧹 Cleanup complete!\")",
   "outputs": [],
   "execution_count": null
  },
  {
   "metadata": {
    "ExecuteTime": {
     "end_time": "2025-10-17T07:05:35.712061Z",
     "start_time": "2025-10-17T07:05:35.318404Z"
    }
   },
   "cell_type": "markdown",
   "source": "## Summary\n\nIn this notebook, we explored file uploads and media in Notion:\n\n### Key Operations\n- **Upload files**: Use `notion.enhancedFileUploads.uploadFile()` for simple uploads\n- **Import external files**: Use `importExternalFile()` for files hosted elsewhere\n- **Embed external media**: Use `image(url, caption)` and `video(url, caption)` for external content\n- **Track progress**: Use `FileUploadOptions` with progress callbacks\n- **Handle errors**: Check `FileUploadResult` and handle specific error types\n\n### Upload Methods Demonstrated\n1. **From byte array**: Upload content directly from memory\n2. **From external URL**: Import files from HTTPS URLs\n3. **External embedding**: Embed media without uploading\n\n### File Block Types\n- **File blocks**: `fileFromUpload(fileUploadId, name, caption)` - Generic file display\n- **PDF blocks**: `pdfFromUpload(fileUploadId, caption)` - Inline PDF viewer\n- **Image blocks**: `imageFromUpload(fileUploadId, name, caption)` or `image(url, caption)` - Display images\n- **Video blocks**: `videoFromUpload(fileUploadId, name, caption)` or `video(url, caption)` - Embed videos\n\n### Best Practices\n1. **Use enhanced API**: Handles most cases automatically with progress tracking\n2. **Handle errors**: Always check `FileUploadResult` and handle failures\n3. **External URLs**: Must use HTTPS (not HTTP)\n4. **File size limits**: Free workspaces: 5 MiB, Paid: 5 GiB\n5. **Progress tracking**: Use callbacks for better user experience\n6. **Wait after import**: External files may need processing time\n\n### File Size Limits\n- **Free workspaces**: 5 MiB per file\n- **Paid workspaces**: 5 GiB per file  \n- **Multi-part threshold**: Files > 20 MiB use multi-part upload automatically\n- **Multi-part minimum**: Each part must be >= 5 MiB (except last part)\n\n### Error Types\n- `ValidationError`: Invalid parameters or unsupported file type\n- `FileSizeError`: File exceeds workspace limits\n- `NetworkError`: Network connectivity issues\n- `RateLimitError`: API rate limit exceeded\n- `TimeoutError`: Operation took too long\n\n## Next Steps\n\nContinue exploring:\n- **[docs/file-uploads.md](../docs/file-uploads.md)** - Comprehensive file upload documentation\n- **[04-working-with-blocks.ipynb](./04-working-with-blocks.ipynb)** - More block types and operations\n- **[06-advanced-queries.ipynb](./06-advanced-queries.ipynb)** - Complex filtering and pagination"
  }
 ],
 "metadata": {
  "kernelspec": {
   "display_name": "Kotlin",
   "language": "kotlin",
   "name": "kotlin"
  },
  "language_info": {
   "codemirror_mode": "text/x-kotlin",
   "file_extension": ".kt",
   "mimetype": "text/x-kotlin",
   "name": "kotlin",
   "nbconvert_exporter": "",
   "pygments_lexer": "kotlin",
   "version": "1.9.0"
  }
 },
 "nbformat": 4,
 "nbformat_minor": 4
}
