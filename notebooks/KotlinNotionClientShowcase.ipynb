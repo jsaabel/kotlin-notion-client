{
 "cells": [
  {
   "cell_type": "markdown",
   "metadata": {},
   "source": "# Kotlin Notion Client - Interactive Showcase\n\nThis notebook demonstrates the capabilities of the Kotlin Notion Client with live API interactions.\n\n## Prerequisites\n\n**Before running this notebook:**\n\n1. **Build the fat JAR (includes all dependencies):**\n   ```bash\n   cd /path/to/kotlin-notion-client\n   ./gradlew shadowJar\n   ```\n\n2. **Set environment variables:**\n   ```bash\n   export NOTION_API_TOKEN=\"your-notion-integration-token\"\n   export NOTION_TEST_PAGE_ID=\"your-test-page-id\"\n   ```\n\n3. **Ensure you have a Notion integration** with access to your test page\n\n## Setup\n\n**Improved approach using fat JAR:**\n- Fat JAR includes all dependencies (Ktor, coroutines, etc.)\n- Avoids Jupyter Kotlin kernel dependency resolution issues\n- Run the next TWO cells in order\n- **If you get type errors, restart Jupyter kernel after rebuilding JAR**\n\n## Alternative\n\nIf you still have issues, try the simplified notebook: `SimpleNotionShowcase.ipynb`"
  },
  {
   "cell_type": "code",
   "metadata": {
    "ExecuteTime": {
     "end_time": "2025-07-17T16:01:49.930039Z",
     "start_time": "2025-07-17T16:01:49.827072Z"
    }
   },
   "source": "// SOLUTION: Use Fat JAR with all dependencies included\n// This avoids dependency resolution issues in Jupyter\n\n@file:DependsOn(\"../build/libs/kotlin-notion-client-0.0.1-SNAPSHOT.jar\")\n\nprintln(\"📦 Fat JAR loaded! All dependencies included.\")\nprintln(\"💡 If this fails, run: ./gradlew shadowJar\")\nprintln(\"🔄 If you get type errors, restart Jupyter kernel after rebuilding JAR\")",
   "outputs": [
    {
     "name": "stdout",
     "output_type": "stream",
     "text": [
      "📦 Fat JAR loaded! All dependencies included.\n",
      "💡 If this fails, run: ./gradlew shadowJar\n",
      "🔄 If you get type errors, restart Jupyter kernel after rebuilding JAR\n"
     ]
    }
   ],
   "execution_count": 1
  },
  {
   "cell_type": "code",
   "source": "// Import classes from fat JAR\nimport no.saabelit.kotlinnotionclient.NotionClient\nimport kotlin.time.measureTime\nimport kotlinx.coroutines.runBlocking\n\nprintln(\"✅ All imports successful from fat JAR!\")",
   "metadata": {
    "ExecuteTime": {
     "end_time": "2025-07-17T16:01:52.317080Z",
     "start_time": "2025-07-17T16:01:52.273745Z"
    }
   },
   "outputs": [
    {
     "name": "stdout",
     "output_type": "stream",
     "text": [
      "✅ All imports successful from fat JAR!\n"
     ]
    }
   ],
   "execution_count": 2
  },
  {
   "cell_type": "markdown",
   "metadata": {},
   "source": [
    "## Configuration\n",
    "\n",
    "Set up your API credentials. You'll need:\n",
    "- A Notion API token\n",
    "- A test page ID where you have permissions"
   ]
  },
  {
   "cell_type": "code",
   "metadata": {
    "ExecuteTime": {
     "end_time": "2025-07-17T16:01:56.308622Z",
     "start_time": "2025-07-17T16:01:56.069900Z"
    }
   },
   "source": "// Configure client - simplified approach avoiding LogLevel import issues\nval apiToken = System.getenv(\"NOTION_API_TOKEN\") ?: \"your-token-here\"\nval testPageId = System.getenv(\"NOTION_TEST_PAGE_ID\") ?: \"your-page-id-here\"\n\n// Create client variable in global scope so other cells can access it\nval client = try {\n    NotionClient.create(apiToken)\n} catch (e: Exception) {\n    println(\"❌ Error creating client: ${e.message}\")\n    println(\"💡 Try: 1) Restart Jupyter kernel, 2) Run ./gradlew shadowJar again, 3) Check your API token\")\n    throw e\n}\n\nprintln(\"✅ Notion client configured successfully!\")\nprintln(\"🔑 Using token: ${apiToken.take(10)}...\")\nprintln(\"📄 Test page ID: $testPageId\")",
   "outputs": [
    {
     "name": "stdout",
     "output_type": "stream",
     "text": [
      "✅ Notion client configured successfully!\n",
      "🔑 Using token: ntn_532171...\n",
      "📄 Test page ID: 22dc63fd-82ed-80ee-a85a-ca78bc951fb1\n"
     ]
    }
   ],
   "execution_count": 3
  },
  {
   "cell_type": "markdown",
   "metadata": {},
   "source": [
    "## Feature 1: User Information\n",
    "\n",
    "Let's start by getting information about the current user:"
   ]
  },
  {
   "cell_type": "code",
   "metadata": {
    "ExecuteTime": {
     "end_time": "2025-07-17T16:01:59.967543Z",
     "start_time": "2025-07-17T16:01:59.172923Z"
    }
   },
   "source": [
    "runBlocking {\n",
    "    val timing = measureTime {\n",
    "        val user = client.users.getCurrentUser()\n",
    "        \n",
    "        println(\"👤 Current User Information:\")\n",
    "        println(\"   Name: ${user.name ?: \"No name provided\"}\")\n",
    "        println(\"   ID: ${user.id}\")\n",
    "        println(\"   Type: ${user.type}\")\n",
    "        println(\"   Avatar: ${if (user.avatarUrl != null) \"✅ Has avatar\" else \"❌ No avatar\"}\")\n",
    "        \n",
    "        user\n",
    "    }\n",
    "    \n",
    "    println(\"⏱️  Operation took: ${timing.inWholeMilliseconds}ms\")\n",
    "}"
   ],
   "outputs": [
    {
     "name": "stdout",
     "output_type": "stream",
     "text": [
      "👤 Current User Information:\n",
      "   Name: kotlin-client-dev\n",
      "   ID: 261d43a1-b7fb-4a4a-8e44-0be9bdfc1186\n",
      "   Type: BOT\n",
      "   Avatar: ❌ No avatar\n",
      "⏱️  Operation took: 604ms\n"
     ]
    }
   ],
   "execution_count": 4
  },
  {
   "cell_type": "markdown",
   "metadata": {},
   "source": [
    "## Feature 2: Page Operations\n",
    "\n",
    "Now let's retrieve a page and examine its properties:"
   ]
  },
  {
   "cell_type": "code",
   "metadata": {
    "ExecuteTime": {
     "end_time": "2025-07-17T16:02:13.674196Z",
     "start_time": "2025-07-17T16:02:13.107898Z"
    }
   },
   "source": [
    "runBlocking {\n",
    "    val timing = measureTime {\n",
    "        val page = client.pages.retrieve(testPageId)\n",
    "        \n",
    "        println(\"📄 Page Information:\")\n",
    "        println(\"   ID: ${page.id}\")\n",
    "        println(\"   Created: ${page.createdTime}\")\n",
    "        println(\"   Last edited: ${page.lastEditedTime}\")\n",
    "        println(\"   Properties: ${page.properties.keys.joinToString(\", \")}\")\n",
    "        println(\"   URL: ${page.url}\")\n",
    "        \n",
    "        page\n",
    "    }\n",
    "    \n",
    "    println(\"⏱️  Operation took: ${timing.inWholeMilliseconds}ms\")\n",
    "}"
   ],
   "outputs": [
    {
     "name": "stdout",
     "output_type": "stream",
     "text": [
      "📄 Page Information:\n",
      "   ID: 22dc63fd-82ed-80ee-a85a-ca78bc951fb1\n",
      "   Created: 2025-07-11T08:10:00.000Z\n",
      "   Last edited: 2025-07-17T15:30:00.000Z\n",
      "   Properties: title\n",
      "   URL: https://www.notion.so/Container-page-for-Kotlin-Notion-Client-integration-tests-22dc63fd82ed80eea85aca78bc951fb1\n",
      "⏱️  Operation took: 461ms\n"
     ]
    }
   ],
   "execution_count": 5
  },
  {
   "cell_type": "markdown",
   "metadata": {},
   "source": [
    "## Feature 3: Block Operations\n",
    "\n",
    "Let's explore the blocks within our test page:"
   ]
  },
  {
   "cell_type": "code",
   "metadata": {
    "ExecuteTime": {
     "end_time": "2025-07-17T16:02:39.079878Z",
     "start_time": "2025-07-17T16:02:35.156961Z"
    }
   },
   "source": "runBlocking {\n    val timing = measureTime {\n        val blocks = client.blocks.retrieveChildren(testPageId)\n        \n        println(\"🧱 Block Information:\")\n        println(\"   Total blocks retrieved: ${blocks.size}\")\n        \n        blocks.forEachIndexed { index, block ->\n            println(\"   Block ${index + 1}:\")\n            println(\"     Type: ${block.type}\")\n            println(\"     ID: ${block.id}\")\n            println(\"     Has children: ${block.hasChildren}\")\n            println(\"     Created: ${block.createdTime}\")\n        }\n        \n        blocks\n    }\n    \n    println(\"⏱️  Operation took: ${timing.inWholeMilliseconds}ms\")\n}",
   "outputs": [
    {
     "name": "stdout",
     "output_type": "stream",
     "text": [
      "🧱 Block Information:\n",
      "   Total blocks retrieved: 9\n",
      "   Block 1:\n",
      "     Type: code\n",
      "     ID: 22ec63fd-82ed-80ad-8831-f13d48ce0374\n",
      "     Has children: false\n",
      "     Created: 2025-07-12T12:56:00.000Z\n",
      "   Block 2:\n",
      "     Type: paragraph\n",
      "     ID: 22fc63fd-82ed-8050-9d65-f0b85f7aac73\n",
      "     Has children: false\n",
      "     Created: 2025-07-13T13:34:00.000Z\n",
      "   Block 3:\n",
      "     Type: child_database\n",
      "     ID: 22ec63fd-82ed-80a1-9476-f3424f814862\n",
      "     Has children: false\n",
      "     Created: 2025-07-12T14:03:00.000Z\n",
      "   Block 4:\n",
      "     Type: child_page\n",
      "     ID: 233c63fd-82ed-8186-88e1-e826b6cd7cd8\n",
      "     Has children: false\n",
      "     Created: 2025-07-17T15:29:00.000Z\n",
      "   Block 5:\n",
      "     Type: child_page\n",
      "     ID: 233c63fd-82ed-816b-b0bf-f07a2c9f9e8b\n",
      "     Has children: false\n",
      "     Created: 2025-07-17T15:30:00.000Z\n",
      "   Block 6:\n",
      "     Type: child_page\n",
      "     ID: 233c63fd-82ed-8168-a031-fc407b0cdf9b\n",
      "     Has children: true\n",
      "     Created: 2025-07-17T15:30:00.000Z\n",
      "   Block 7:\n",
      "     Type: child_page\n",
      "     ID: 233c63fd-82ed-81cf-ba5b-e15f4b49a391\n",
      "     Has children: false\n",
      "     Created: 2025-07-17T15:30:00.000Z\n",
      "   Block 8:\n",
      "     Type: child_page\n",
      "     ID: 233c63fd-82ed-81a1-a124-dd6153b828ca\n",
      "     Has children: false\n",
      "     Created: 2025-07-17T15:30:00.000Z\n",
      "   Block 9:\n",
      "     Type: child_page\n",
      "     ID: 233c63fd-82ed-8101-9869-caf95b94d5f1\n",
      "     Has children: true\n",
      "     Created: 2025-07-17T15:30:00.000Z\n",
      "⏱️  Operation took: 3824ms\n"
     ]
    }
   ],
   "execution_count": 6
  },
  {
   "cell_type": "markdown",
   "metadata": {},
   "source": [
    "## Feature 4: Performance Benchmarking\n",
    "\n",
    "Let's run some performance tests to showcase the client's efficiency:"
   ]
  },
  {
   "cell_type": "code",
   "metadata": {
    "ExecuteTime": {
     "end_time": "2025-07-17T16:02:55.647552Z",
     "start_time": "2025-07-17T16:02:52.953055Z"
    }
   },
   "source": "runBlocking {\n    println(\"🚀 Performance Benchmarking:\")\n    \n    // Test 1: User lookup\n    val userTime = measureTime {\n        client.users.getCurrentUser()\n    }\n    println(\"   User lookup: ${userTime.inWholeMilliseconds}ms\")\n    \n    // Test 2: Page retrieval\n    val pageTime = measureTime {\n        client.pages.retrieve(testPageId)\n    }\n    println(\"   Page retrieval: ${pageTime.inWholeMilliseconds}ms\")\n    \n    // Test 3: Block listing\n    val blocksTime = measureTime {\n        val blocks = client.blocks.retrieveChildren(testPageId)\n        blocks.take(5) // Only show first 5 for performance\n    }\n    println(\"   Block listing: ${blocksTime.inWholeMilliseconds}ms\")\n    \n    val totalTime = userTime + pageTime + blocksTime\n    println(\"   Total time for all operations: ${totalTime.inWholeMilliseconds}ms\")\n    \n    if (totalTime.inWholeMilliseconds < 2000) {\n        println(\"   ✅ Excellent performance! All operations under 2 seconds.\")\n    } else {\n        println(\"   ⚠️  Operations taking longer than expected.\")\n    }\n}",
   "outputs": [
    {
     "name": "stdout",
     "output_type": "stream",
     "text": [
      "🚀 Performance Benchmarking:\n",
      "   User lookup: 338ms\n",
      "   Page retrieval: 1000ms\n",
      "   Block listing: 1231ms\n",
      "   Total time for all operations: 2570ms\n",
      "   ⚠️  Operations taking longer than expected.\n"
     ]
    }
   ],
   "execution_count": 7
  },
  {
   "cell_type": "markdown",
   "metadata": {},
   "source": [
    "## Summary\n",
    "\n",
    "This notebook demonstrated the key features of the Kotlin Notion Client:\n",
    "\n",
    "### ✅ Features Demonstrated\n",
    "- **User Operations**: Retrieve current user information\n",
    "- **Page Operations**: Fetch page details and properties\n",
    "- **Block Operations**: List and explore page content blocks\n",
    "- **Performance**: All operations complete quickly with built-in rate limiting\n",
    "\n",
    "### 🚀 Key Benefits\n",
    "- **Type Safety**: Full Kotlin type system support\n",
    "- **Coroutines**: Non-blocking async operations\n",
    "- **Performance**: Optimized for speed and efficiency\n",
    "- **Error Handling**: Comprehensive exception handling\n",
    "- **Rate Limiting**: Built-in respect for API limits\n",
    "\n",
    "### 🔗 Next Steps\n",
    "- Explore database operations\n",
    "- Try creating and updating content\n",
    "- Test file upload capabilities\n",
    "- Experiment with advanced querying"
   ]
  },
  {
   "cell_type": "code",
   "execution_count": null,
   "metadata": {},
   "source": [
    "// Clean up\n",
    "client.close()\n",
    "println(\"🧹 Client closed successfully!\")"
   ],
   "outputs": []
  }
 ],
 "metadata": {
  "kernelspec": {
   "display_name": "Kotlin",
   "language": "kotlin",
   "name": "kotlin"
  },
  "language_info": {
   "codemirror_mode": "text/x-kotlin",
   "file_extension": ".kt",
   "mimetype": "text/x-kotlin",
   "name": "kotlin",
   "nbconvert_exporter": "",
   "pygments_lexer": "kotlin",
   "version": "1.9.10"
  }
 },
 "nbformat": 4,
 "nbformat_minor": 4
}
