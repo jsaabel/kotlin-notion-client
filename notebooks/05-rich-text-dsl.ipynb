{
 "cells": [
  {
   "cell_type": "markdown",
   "metadata": {},
   "source": "# Rich Text DSL\n\nThis notebook provides a comprehensive guide to the Rich Text DSL in the Kotlin Notion Client:\n- Basic text formatting (bold, italic, code, strikethrough, underline)\n- Colors and background colors\n- Links and URLs\n- Date mentions (strings, LocalDate, LocalDateTime, Instant)\n- Mathematical equations (LaTeX)\n- Advanced formatting with `formattedText()`\n- Method chaining patterns\n- Complex mixed content\n\n## Prerequisites\n\nMake sure you have set these environment variables:\n- `NOTION_API_TOKEN` - Your Notion integration token\n- `NOTION_TEST_PAGE_ID` - A test page ID where we can create test content"
  },
  {
   "cell_type": "markdown",
   "metadata": {},
   "source": [
    "## Setup: Load Dependencies and Initialize Client"
   ]
  },
  {
   "cell_type": "code",
   "metadata": {
    "ExecuteTime": {
     "end_time": "2025-10-17T08:17:18.299337Z",
     "start_time": "2025-10-17T08:17:17.636283Z"
    }
   },
   "source": "// Load the Kotlin Notion Client library from Maven Central\n@file:DependsOn(\"it.saabel:kotlin-notion-client:0.1.0\")\n\n// Import necessary classes\nimport it.saabel.kotlinnotionclient.NotionClient\nimport it.saabel.kotlinnotionclient.models.base.Color\nimport kotlinx.coroutines.runBlocking\nimport kotlinx.coroutines.delay\nimport kotlinx.datetime.LocalDate\nimport kotlinx.datetime.LocalDateTime\nimport kotlinx.datetime.TimeZone\nimport kotlinx.datetime.Instant\n\n// Initialize the client\nval apiToken = System.getenv(\"NOTION_API_TOKEN\")\n    ?: error(\"❌ NOTION_API_TOKEN environment variable not set\")\n\nval parentPageId = System.getenv(\"NOTION_TEST_PAGE_ID\")\n    ?: error(\"❌ NOTION_TEST_PAGE_ID environment variable not set\")\n\nval notion = NotionClient(apiToken)\n\nprintln(\"✅ NotionClient initialized successfully!\")",
   "outputs": [
    {
     "name": "stdout",
     "output_type": "stream",
     "text": [
      "✅ NotionClient initialized successfully!\n"
     ]
    }
   ],
   "execution_count": 1
  },
  {
   "cell_type": "markdown",
   "metadata": {},
   "source": "## Understanding Rich Text in Notion\n\nRich text in Notion is not just plain text - it can include:\n- **Formatting**: bold, italic, code, strikethrough, underline\n- **Colors**: text colors and background colors\n- **Links**: URLs with optional display text\n- **Special Content**: date mentions, mathematical equations\n- **Mixed Content**: Combining multiple formatting options\n\nThe Kotlin Notion Client provides a powerful DSL (Domain Specific Language) that makes it easy to create rich, formatted text content programmatically."
  },
  {
   "cell_type": "markdown",
   "source": "## Setup: Create a Test Page\n\nFirst, let's create a test page where we'll demonstrate all the rich text formatting capabilities.",
   "metadata": {}
  },
  {
   "metadata": {
    "ExecuteTime": {
     "end_time": "2025-10-17T08:17:42.057502Z",
     "start_time": "2025-10-17T08:17:35.928716Z"
    }
   },
   "cell_type": "code",
   "source": "val testPage = runBlocking {\n    notion.pages.create {\n        parent.page(parentPageId)\n        title(\"Rich Text DSL Examples\")\n        icon.emoji(\"✨\")\n    }\n}\n\nval testPageId = testPage.id\n\nprintln(\"✅ Test page created successfully!\")\nprintln(\"   Page ID: $testPageId\")\nprintln(\"   URL: ${testPage.url}\")\n\n// Wait for page to be fully created\nrunBlocking { delay(1000) }",
   "outputs": [
    {
     "name": "stdout",
     "output_type": "stream",
     "text": [
      "✅ Test page created successfully!\n",
      "   Page ID: 28fc63fd-82ed-8120-b03d-f9bd17a6c883\n",
      "   URL: https://www.notion.so/Rich-Text-DSL-Examples-28fc63fd82ed8120b03df9bd17a6c883\n"
     ]
    }
   ],
   "execution_count": 2
  },
  {
   "cell_type": "markdown",
   "source": "## Example 1: Basic Text Formatting\n\nThe most common formatting options are bold, italic, and code. You can also use `boldItalic()` as a convenience method.",
   "metadata": {}
  },
  {
   "metadata": {
    "ExecuteTime": {
     "end_time": "2025-10-17T08:18:01.749073Z",
     "start_time": "2025-10-17T08:17:57.818994Z"
    }
   },
   "cell_type": "code",
   "source": "runBlocking {\n    notion.blocks.appendChildren(testPageId) {\n        heading1(\"Example 1: Basic Text Formatting\")\n        \n        paragraph {\n            text(\"This text is \")\n            bold(\"bold\")\n            text(\", this is \")\n            italic(\"italic\")\n            text(\", and this is \")\n            boldItalic(\"both\")\n            text(\".\")\n        }\n        \n        paragraph {\n            text(\"You can also use \")\n            code(\"inline code\")\n            text(\" for technical terms or \")\n            strikethrough(\"strikethrough\")\n            text(\" and \")\n            underline(\"underline\")\n            text(\".\")\n        }\n    }\n    \n    delay(1000)\n}\n\nprintln(\"✅ Basic text formatting examples created!\")",
   "outputs": [
    {
     "name": "stdout",
     "output_type": "stream",
     "text": [
      "✅ Basic text formatting examples created!\n"
     ]
    }
   ],
   "execution_count": 3
  },
  {
   "cell_type": "markdown",
   "metadata": {},
   "source": "## Example 2: Colors\n\nYou can apply colors to text or use background colors. Notion provides a variety of colors including blue, red, green, yellow, and more."
  },
  {
   "metadata": {
    "ExecuteTime": {
     "end_time": "2025-10-17T08:18:30.957351Z",
     "start_time": "2025-10-17T08:18:29.275451Z"
    }
   },
   "cell_type": "code",
   "source": "runBlocking {\n    notion.blocks.appendChildren(testPageId) {\n        heading2(\"Example 2: Colors\")\n        \n        paragraph {\n            text(\"Text colors: \")\n            colored(\"red text\", Color.RED)\n            text(\", \")\n            colored(\"blue text\", Color.BLUE)\n            text(\", \")\n            colored(\"green text\", Color.GREEN)\n            text(\", \")\n            colored(\"orange text\", Color.ORANGE)\n        }\n        \n        paragraph {\n            text(\"Background colors: \")\n            backgroundColored(\"yellow background\", Color.YELLOW_BACKGROUND)\n            text(\", \")\n            backgroundColored(\"blue background\", Color.BLUE_BACKGROUND)\n            text(\", \")\n            backgroundColored(\"red background\", Color.RED_BACKGROUND)\n        }\n    }\n    \n    delay(1000)\n}\n\nprintln(\"✅ Color examples created!\")",
   "outputs": [
    {
     "name": "stdout",
     "output_type": "stream",
     "text": [
      "✅ Color examples created!\n"
     ]
    }
   ],
   "execution_count": 4
  },
  {
   "metadata": {
    "ExecuteTime": {
     "end_time": "2025-10-17T07:05:15.230019Z",
     "start_time": "2025-10-17T07:05:14.435524Z"
    }
   },
   "cell_type": "markdown",
   "source": "## Example 3: Links\n\nLinks can have display text or show the URL directly."
  },
  {
   "cell_type": "code",
   "metadata": {
    "ExecuteTime": {
     "end_time": "2025-10-17T08:18:51.358628Z",
     "start_time": "2025-10-17T08:18:49.723649Z"
    }
   },
   "source": "runBlocking {\n    notion.blocks.appendChildren(testPageId) {\n        heading2(\"Example 3: Links\")\n        \n        paragraph {\n            text(\"Visit our \")\n            link(\"https://github.com/notion/kotlin-notion-client\", \"GitHub repository\")\n            text(\" for the source code.\")\n        }\n        \n        paragraph {\n            text(\"Or check out the official Notion API docs: \")\n            link(\"https://developers.notion.com\")\n        }\n    }\n    \n    delay(1000)\n}\n\nprintln(\"✅ Link examples created!\")",
   "outputs": [
    {
     "name": "stdout",
     "output_type": "stream",
     "text": [
      "✅ Link examples created!\n"
     ]
    }
   ],
   "execution_count": 5
  },
  {
   "metadata": {
    "ExecuteTime": {
     "end_time": "2025-10-17T07:05:20.525789Z",
     "start_time": "2025-10-17T07:05:20.002150Z"
    }
   },
   "cell_type": "markdown",
   "source": "## Example 4: Date Mentions (String Format)\n\nDate mentions allow you to reference dates in your content. You can use simple date strings or date-time strings with optional time zones."
  },
  {
   "cell_type": "code",
   "metadata": {
    "ExecuteTime": {
     "end_time": "2025-10-17T08:19:15.737086Z",
     "start_time": "2025-10-17T08:19:14.167441Z"
    }
   },
   "source": "runBlocking {\n    notion.blocks.appendChildren(testPageId) {\n        heading2(\"Example 4: Date Mentions (Strings)\")\n        \n        paragraph {\n            text(\"Meeting on \")\n            dateMention(\"2025-10-20\")\n            text(\" at 2pm\")\n        }\n        \n        paragraph {\n            text(\"Conference from \")\n            dateMention(\n                start = \"2025-10-15T09:00:00\",\n                end = \"2025-10-17T17:00:00\",\n                timeZone = \"America/New_York\"\n            )\n        }\n    }\n    \n    delay(1000)\n}\n\nprintln(\"✅ Date mention (string) examples created!\")",
   "outputs": [
    {
     "name": "stdout",
     "output_type": "stream",
     "text": [
      "✅ Date mention (string) examples created!\n"
     ]
    }
   ],
   "execution_count": 6
  },
  {
   "metadata": {
    "ExecuteTime": {
     "end_time": "2025-10-17T07:05:27.119870Z",
     "start_time": "2025-10-17T07:05:25.081922Z"
    }
   },
   "cell_type": "markdown",
   "source": "## Example 5: Date Mentions (LocalDate)\n\nFor type safety, you can use Kotlin's `LocalDate` type instead of strings."
  },
  {
   "metadata": {
    "ExecuteTime": {
     "end_time": "2025-10-17T08:19:34.899250Z",
     "start_time": "2025-10-17T08:19:32.767010Z"
    }
   },
   "cell_type": "code",
   "source": "runBlocking {\n    notion.blocks.appendChildren(testPageId) {\n        heading2(\"Example 5: Date Mentions (LocalDate)\")\n        \n        paragraph {\n            text(\"Project deadline: \")\n            dateMention(LocalDate(2025, 10, 25))\n        }\n        \n        paragraph {\n            text(\"Sprint: \")\n            dateMention(\n                start = LocalDate(2025, 10, 15),\n                end = LocalDate(2025, 10, 28)\n            )\n        }\n    }\n    \n    delay(1000)\n}\n\nprintln(\"✅ Date mention (LocalDate) examples created!\")",
   "outputs": [
    {
     "name": "stdout",
     "output_type": "stream",
     "text": [
      "✅ Date mention (LocalDate) examples created!\n"
     ]
    }
   ],
   "execution_count": 7
  },
  {
   "metadata": {
    "ExecuteTime": {
     "end_time": "2025-10-17T07:05:31.785382Z",
     "start_time": "2025-10-17T07:05:31.385049Z"
    }
   },
   "cell_type": "markdown",
   "source": "## Example 6: Date Mentions (LocalDateTime)\n\nFor dates with specific times, use `LocalDateTime` along with a time zone."
  },
  {
   "metadata": {
    "ExecuteTime": {
     "end_time": "2025-10-17T08:26:29.275702Z",
     "start_time": "2025-10-17T08:26:27.368815Z"
    }
   },
   "cell_type": "code",
   "source": [
    "runBlocking {\n",
    "    notion.blocks.appendChildren(testPageId) {\n",
    "        heading2(\"Example 6: Date Mentions (LocalDateTime)\")\n",
    "        \n",
    "        paragraph {\n",
    "            text(\"Team meeting \")\n",
    "            dateMention(\n",
    "                start = LocalDateTime(2025, 10, 20, 14, 30),\n",
    "                timeZone = TimeZone.of(\"America/New_York\")\n",
    "            )\n",
    "        }\n",
    "        \n",
    "        paragraph {\n",
    "            text(\"Conference \")\n",
    "            dateMention(\n",
    "                start = LocalDateTime(2025, 10, 15, 9, 0),\n",
    "                end = LocalDateTime(2025, 10, 17, 17, 0),\n",
    "                timeZone = TimeZone.of(\"Europe/Berlin\")\n",
    "            )\n",
    "        }\n",
    "    }\n",
    "    \n",
    "    delay(1000)\n",
    "}\n",
    "\n",
    "println(\"✅ Date mention (LocalDateTime) examples created!\")"
   ],
   "outputs": [
    {
     "name": "stdout",
     "output_type": "stream",
     "text": [
      "✅ Date mention (LocalDateTime) examples created!\n"
     ]
    }
   ],
   "execution_count": 14
  },
  {
   "metadata": {
    "ExecuteTime": {
     "end_time": "2025-10-17T07:05:35.712061Z",
     "start_time": "2025-10-17T07:05:35.318404Z"
    }
   },
   "cell_type": "markdown",
   "source": "## Example 7: Date Mentions (Instant)\n\nFor absolute timestamps (UTC), use Kotlin's `Instant` type."
  },
  {
   "metadata": {
    "ExecuteTime": {
     "end_time": "2025-10-17T08:27:38.131804Z",
     "start_time": "2025-10-17T08:27:29.490046Z"
    }
   },
   "cell_type": "code",
   "source": "runBlocking {\n    notion.blocks.appendChildren(testPageId) {\n        heading2(\"Example 7: Date Mentions (Instant)\")\n        \n        paragraph {\n            text(\"Deployment at \")\n            dateMention(Instant.parse(\"2025-10-20T14:30:00Z\"))\n        }\n        \n        paragraph {\n            text(\"Maintenance window: \")\n            dateMention(\n                start = Instant.parse(\"2025-10-15T02:00:00Z\"),\n                end = Instant.parse(\"2025-10-15T04:00:00Z\")\n            )\n        }\n    }\n    \n    delay(1000)\n}\n\nprintln(\"✅ Date mention (Instant) examples created!\")",
   "outputs": [
    {
     "name": "stdout",
     "output_type": "stream",
     "text": [
      "✅ Date mention (Instant) examples created!\n"
     ]
    }
   ],
   "execution_count": 15
  },
  {
   "cell_type": "markdown",
   "source": "## Example 8: Mathematical Equations\n\nYou can embed LaTeX equations inline with text using the `equation()` method.",
   "metadata": {
    "ExecuteTime": {
     "end_time": "2025-10-17T07:08:30.231644Z",
     "start_time": "2025-10-17T07:08:29.411645Z"
    }
   }
  },
  {
   "metadata": {
    "ExecuteTime": {
     "end_time": "2025-10-17T08:28:00.318164Z",
     "start_time": "2025-10-17T08:27:58.666534Z"
    }
   },
   "cell_type": "code",
   "source": "runBlocking {\n    notion.blocks.appendChildren(testPageId) {\n        heading2(\"Example 8: Equations\")\n        \n        paragraph {\n            text(\"The Pythagorean theorem: \")\n            equation(\"x^2 + y^2 = z^2\")\n        }\n        \n        paragraph {\n            text(\"Einstein's famous equation: \")\n            equation(\"E = mc^2\")\n        }\n        \n        paragraph {\n            text(\"The quadratic formula: \")\n            equation(\"x = \\\\frac{-b \\\\pm \\\\sqrt{b^2 - 4ac}}{2a}\")\n        }\n    }\n    \n    delay(1000)\n}\n\nprintln(\"✅ Equation examples created!\")",
   "outputs": [
    {
     "name": "stdout",
     "output_type": "stream",
     "text": [
      "✅ Equation examples created!\n"
     ]
    }
   ],
   "execution_count": 16
  },
  {
   "cell_type": "markdown",
   "source": "## Example 9: Advanced Formatting with formattedText()\n\nFor combining multiple formatting options at once, use the `formattedText()` method with named parameters.",
   "metadata": {}
  },
  {
   "cell_type": "code",
   "source": "runBlocking {\n    notion.blocks.appendChildren(testPageId) {\n        heading2(\"Example 9: Advanced Formatting\")\n        \n        paragraph {\n            text(\"This is \")\n            formattedText(\"bold and italic\", bold = true, italic = true)\n            text(\" and this is \")\n            formattedText(\"code with color\", code = true, color = Color.BLUE)\n        }\n        \n        paragraph {\n            text(\"You can combine many formats: \")\n            formattedText(\n                \"all the things!\",\n                bold = true,\n                italic = true,\n                underline = true,\n                strikethrough = true,\n                color = Color.RED\n            )\n        }\n    }\n    \n    delay(1000)\n}\n\nprintln(\"✅ Advanced formatting examples created!\")",
   "metadata": {
    "ExecuteTime": {
     "end_time": "2025-10-17T08:28:15.295880Z",
     "start_time": "2025-10-17T08:28:13.729273Z"
    }
   },
   "outputs": [
    {
     "name": "stdout",
     "output_type": "stream",
     "text": [
      "✅ Advanced formatting examples created!\n"
     ]
    }
   ],
   "execution_count": 17
  },
  {
   "cell_type": "markdown",
   "source": "## Example 10: Method Chaining\n\nThe Rich Text DSL supports method chaining, allowing you to build text fluently.",
   "metadata": {}
  },
  {
   "cell_type": "code",
   "source": "runBlocking {\n    notion.blocks.appendChildren(testPageId) {\n        heading2(\"Example 10: Method Chaining\")\n        \n        paragraph {\n            text(\"Start with \")\n                .bold(\"bold text\")\n                .text(\", then \")\n                .italic(\"italic text\")\n                .text(\", and \")\n                .code(\"code\")\n                .text(\"!\")\n        }\n        \n        callout(\"✨\") {\n            text(\"Method chaining makes it easy to \")\n                .bold(\"build\")\n                .text(\" \")\n                .colored(\"rich\", Color.PURPLE)\n                .text(\" \")\n                .italic(\"content\")\n                .text(\" fluently.\")\n        }\n    }\n    \n    delay(1000)\n}\n\nprintln(\"✅ Method chaining examples created!\")",
   "metadata": {
    "ExecuteTime": {
     "end_time": "2025-10-17T08:28:34.121548Z",
     "start_time": "2025-10-17T08:28:32.434030Z"
    }
   },
   "outputs": [
    {
     "name": "stdout",
     "output_type": "stream",
     "text": [
      "✅ Method chaining examples created!\n"
     ]
    }
   ],
   "execution_count": 18
  },
  {
   "cell_type": "markdown",
   "source": "## Example 11: Complex Mixed Content\n\nLet's put everything together in a complex example that uses multiple rich text features.",
   "metadata": {}
  },
  {
   "cell_type": "code",
   "source": "runBlocking {\n    notion.blocks.appendChildren(testPageId) {\n        heading2(\"Example 11: Complex Mixed Content\")\n        \n        paragraph {\n            text(\"Team meeting \")\n            dateMention(\n                start = LocalDateTime(2025, 10, 20, 14, 0),\n                timeZone = TimeZone.of(\"America/New_York\")\n            )\n            text(\". \")\n            \n            bold(\"Key topics: \")\n            colored(\"Budget review\", Color.RED)\n            text(\", \")\n            colored(\"Timeline updates\", Color.ORANGE)\n            text(\", and \")\n            colored(\"Next steps\", Color.GREEN)\n            text(\". \")\n        }\n        \n        paragraph {\n            text(\"Formula: \")\n            equation(\"\\\\text{ROI} = \\\\frac{\\\\text{Gain} - \\\\text{Cost}}{\\\\text{Cost}} \\\\times 100\\\\%\")\n            text(\" - See \")\n            link(\"https://example.com/docs\", \"full documentation\")\n            text(\" for details.\")\n        }\n        \n        callout(\"⚠️\") {\n            text(\"Please review by \")\n            dateMention(LocalDate(2025, 10, 25))\n            text(\" and mark as \")\n            formattedText(\"complete\", bold = true, color = Color.GREEN)\n            text(\"!\")\n        }\n    }\n    \n    delay(1000)\n}\n\nprintln(\"✅ Complex mixed content examples created!\")",
   "metadata": {
    "ExecuteTime": {
     "end_time": "2025-10-17T08:29:03.525359Z",
     "start_time": "2025-10-17T08:28:59.377237Z"
    }
   },
   "outputs": [
    {
     "name": "stdout",
     "output_type": "stream",
     "text": [
      "✅ Complex mixed content examples created!\n"
     ]
    }
   ],
   "execution_count": 19
  },
  {
   "cell_type": "markdown",
   "source": "## Summary\n\nIn this notebook, we explored the Rich Text DSL comprehensively:\n\n### Basic Formatting\n- `bold(\"text\")` - Bold text\n- `italic(\"text\")` - Italic text  \n- `boldItalic(\"text\")` - Convenience method for bold + italic\n- `code(\"text\")` - Inline code\n- `strikethrough(\"text\")` - Strikethrough text\n- `underline(\"text\")` - Underlined text\n\n### Colors\n- `colored(\"text\", Color.RED)` - Text color\n- `backgroundColored(\"text\", Color.YELLOW_BACKGROUND)` - Background color\n\n### Links\n- `link(\"https://url.com\", \"display text\")` - Link with display text\n- `link(\"https://url.com\")` - Link showing URL\n\n### Date Mentions\n- `dateMention(\"2025-10-20\")` - String format\n- `dateMention(LocalDate(...))` - Type-safe LocalDate\n- `dateMention(LocalDateTime(...), timeZone = ...)` - With time\n- `dateMention(Instant(...))` - Absolute timestamps\n- All support date ranges with `start` and `end` parameters\n\n### Equations\n- `equation(\"E = mc^2\")` - LaTeX equations inline\n\n### Advanced Formatting\n- `formattedText(\"text\", bold = true, italic = true, ...)` - Combine multiple formats\n- Method chaining: `text(\"a\").bold(\"b\").italic(\"c\")`\n\n### Best Practices\n1. Use type-safe date types (`LocalDate`, `LocalDateTime`, `Instant`) over strings when possible\n2. Combine formats with `formattedText()` for complex styling\n3. Use convenience methods like `boldItalic()` for common combinations\n4. Method chaining works well for sequential formatting\n5. Mix and match all features to create rich, expressive content\n\n## Next Steps\n\nContinue exploring:\n- **[06-advanced-queries.ipynb](./06-advanced-queries.ipynb)** - Complex filtering, sorting, and pagination\n\n## Cleanup\n\nLet's clean up by archiving the test page.",
   "metadata": {}
  },
  {
   "cell_type": "code",
   "source": "runBlocking {\n    // Archive the test page\n    notion.pages.archive(testPageId)\n}\n\nprintln(\"✅ Test page archived successfully!\")",
   "metadata": {
    "ExecuteTime": {
     "end_time": "2025-10-17T08:29:59.529950Z",
     "start_time": "2025-10-17T08:29:58.389248Z"
    }
   },
   "outputs": [
    {
     "name": "stdout",
     "output_type": "stream",
     "text": [
      "✅ Test page archived successfully!\n"
     ]
    }
   ],
   "execution_count": 20
  }
 ],
 "metadata": {
  "kernelspec": {
   "display_name": "Kotlin",
   "language": "kotlin",
   "name": "kotlin"
  },
  "language_info": {
   "codemirror_mode": "text/x-kotlin",
   "file_extension": ".kt",
   "mimetype": "text/x-kotlin",
   "name": "kotlin",
   "nbconvert_exporter": "",
   "pygments_lexer": "kotlin",
   "version": "1.9.0"
  }
 },
 "nbformat": 4,
 "nbformat_minor": 4
}
