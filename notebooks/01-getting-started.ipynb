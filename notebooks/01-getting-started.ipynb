{
 "cells": [
  {
   "cell_type": "markdown",
   "metadata": {},
   "source": [
    "# Getting Started with Kotlin Notion Client\n",
    "\n",
    "This notebook introduces the Kotlin Notion Client library with basic operations:\n",
    "- Setting up the client with authentication\n",
    "- Retrieving your user information\n",
    "- Retrieving a page by ID\n",
    "- Understanding the Page object structure\n",
    "- Basic error handling\n",
    "\n",
    "## Prerequisites\n",
    "\n",
    "Make sure you have set these environment variables:\n",
    "- `NOTION_API_TOKEN` - Your Notion integration token\n",
    "- `NOTION_TEST_PAGE_ID` - A test page ID you have access to"
   ]
  },
  {
   "cell_type": "markdown",
   "metadata": {},
   "source": [
    "## Setup: Load Dependencies and Initialize Client"
   ]
  },
  {
   "cell_type": "code",
   "metadata": {
    "ExecuteTime": {
     "end_time": "2025-10-16T21:01:48.731896Z",
     "start_time": "2025-10-16T21:01:48.197016Z"
    }
   },
   "source": [
    "// Load the Kotlin Notion Client library from Maven Central\n",
    "@file:DependsOn(\"it.saabel:kotlin-notion-client:0.1.0\")\n",
    "\n",
    "// Import necessary classes\n",
    "import it.saabel.kotlinnotionclient.NotionClient\n",
    "import it.saabel.kotlinnotionclient.exceptions.NotionException\n",
    "import kotlinx.coroutines.runBlocking\n",
    "\n",
    "// Initialize the client with your API token\n",
    "val apiToken = System.getenv(\"NOTION_API_TOKEN\")\n",
    "    ?: error(\"❌ NOTION_API_TOKEN environment variable not set\")\n",
    "\n",
    "val notion = NotionClient(apiToken)\n",
    "\n",
    "println(\"✅ NotionClient initialized successfully!\")\n",
    "println(\"   Token: ${apiToken.take(10)}...\")"
   ],
   "outputs": [
    {
     "name": "stdout",
     "output_type": "stream",
     "text": [
      "✅ NotionClient initialized successfully!\n",
      "   Token: ntn_532171...\n"
     ]
    }
   ],
   "execution_count": 1
  },
  {
   "cell_type": "markdown",
   "metadata": {},
   "source": [
    "## Example 1: Get Current User Information\n",
    "\n",
    "Let's verify authentication works by retrieving information about your integration."
   ]
  },
  {
   "cell_type": "code",
   "metadata": {
    "ExecuteTime": {
     "end_time": "2025-10-16T21:01:55.415274Z",
     "start_time": "2025-10-16T21:01:53.527320Z"
    }
   },
   "source": [
    "val user = runBlocking {\n",
    "    notion.users.getCurrentUser()\n",
    "}\n",
    "\n",
    "println(\"✅ User information retrieved:\")\n",
    "println(\"   ID: ${user.id}\")\n",
    "println(\"   Name: ${user.name}\")\n",
    "println(\"   Type: ${user.type}\")\n",
    "println(\"   Avatar: ${user.avatarUrl ?: \"No avatar\"}\")"
   ],
   "outputs": [
    {
     "name": "stdout",
     "output_type": "stream",
     "text": [
      "✅ User information retrieved:\n",
      "   ID: 261d43a1-b7fb-4a4a-8e44-0be9bdfc1186\n",
      "   Name: kotlin-client-dev\n",
      "   Type: BOT\n",
      "   Avatar: No avatar\n"
     ]
    }
   ],
   "execution_count": 2
  },
  {
   "cell_type": "markdown",
   "metadata": {},
   "source": [
    "## Example 2: Retrieve a Page by ID\n",
    "\n",
    "Now let's retrieve a specific page from your Notion workspace."
   ]
  },
  {
   "cell_type": "code",
   "metadata": {
    "ExecuteTime": {
     "end_time": "2025-10-16T21:01:59.305157Z",
     "start_time": "2025-10-16T21:01:58.823946Z"
    }
   },
   "source": [
    "val pageId = System.getenv(\"NOTION_TEST_PAGE_ID\")\n",
    "    ?: error(\"❌ NOTION_TEST_PAGE_ID environment variable not set\")\n",
    "\n",
    "val page = runBlocking {\n",
    "    notion.pages.retrieve(pageId)\n",
    "}\n",
    "\n",
    "println(\"✅ Page retrieved successfully!\")\n",
    "println(\"   ID: ${page.id}\")\n",
    "println(\"   Created: ${page.createdTime}\")\n",
    "println(\"   Last edited: ${page.lastEditedTime}\")\n",
    "println(\"   Archived: ${page.archived}\")\n",
    "println(\"   URL: ${page.url}\")"
   ],
   "outputs": [
    {
     "name": "stdout",
     "output_type": "stream",
     "text": [
      "✅ Page retrieved successfully!\n",
      "   ID: 22dc63fd-82ed-80ee-a85a-ca78bc951fb1\n",
      "   Created: 2025-07-11T08:10:00.000Z\n",
      "   Last edited: 2025-10-16T11:01:00.000Z\n",
      "   Archived: false\n",
      "   URL: https://www.notion.so/Container-page-for-Kotlin-Notion-Client-integration-tests-22dc63fd82ed80eea85aca78bc951fb1\n"
     ]
    }
   ],
   "execution_count": 3
  },
  {
   "cell_type": "markdown",
   "metadata": {},
   "source": [
    "## Example 3: Exploring Page Properties\n",
    "\n",
    "Pages in Notion can have various properties. Let's explore what properties this page has."
   ]
  },
  {
   "cell_type": "code",
   "metadata": {
    "ExecuteTime": {
     "end_time": "2025-10-16T21:02:08.028912Z",
     "start_time": "2025-10-16T21:02:07.880441Z"
    }
   },
   "source": "import it.saabel.kotlinnotionclient.models.pages.PageProperty\n\nprintln(\"📋 Page Properties:\")\npage.properties.forEach { (name, property) ->\n    println(\"   $name: ${property.type}\")\n    \n    // Show some examples of accessing specific property types\n    when (property) {\n        is PageProperty.Title -> println(\"      → Title: ${property.plainText}\")\n        is PageProperty.RichTextProperty -> println(\"      → Text: ${property.plainText}\")\n        is PageProperty.Number -> println(\"      → Number: ${property.number}\")\n        is PageProperty.Checkbox -> println(\"      → Checked: ${property.checkbox}\")\n        is PageProperty.Select -> println(\"      → Selected: ${property.select?.name}\")\n        is PageProperty.Date -> println(\"      → Date: ${property.date?.start}\")\n        is PageProperty.Url -> println(\"      → URL: ${property.url}\")\n        else -> {} // Other types exist too\n    }\n}",
   "outputs": [
    {
     "name": "stdout",
     "output_type": "stream",
     "text": [
      "📋 Page Properties:\n",
      "   title: title\n",
      "      → Title: Container page for Kotlin-Notion-Client integration tests\n"
     ]
    }
   ],
   "execution_count": 4
  },
  {
   "cell_type": "markdown",
   "metadata": {},
   "source": "## Example 4: Understanding Page Parent\n\nEvery page has a parent - either another page, a data source, or a workspace."
  },
  {
   "metadata": {
    "ExecuteTime": {
     "end_time": "2025-10-16T21:02:11.707777Z",
     "start_time": "2025-10-16T21:02:11.641907Z"
    }
   },
   "cell_type": "code",
   "source": [
    "import it.saabel.kotlinnotionclient.models.base.Parent\n",
    "\n",
    "println(\"🔗 Page Parent Information:\")\n",
    "\n",
    "// Simple universal access - works for any parent type\n",
    "println(\"   Parent ID: ${page.parent.id ?: \"N/A (workspace)\"}\")\n",
    "\n",
    "// Type-safe when you need specific parent details\n",
    "when (val parent = page.parent) {\n",
    "    is Parent.PageParent -> {\n",
    "        println(\"   Type: Page\")\n",
    "        println(\"   Page ID: ${parent.pageId}\")\n",
    "    }\n",
    "    is Parent.DataSourceParent -> {\n",
    "        println(\"   Type: Data Source\")\n",
    "        println(\"   Data Source ID: ${parent.dataSourceId}\")\n",
    "    }\n",
    "    is Parent.DatabaseParent -> {\n",
    "        println(\"   Type: Database\")\n",
    "        println(\"   Database ID: ${parent.databaseId}\")\n",
    "    }\n",
    "    is Parent.BlockParent -> {\n",
    "        println(\"   Type: Block\")\n",
    "        println(\"   Block ID: ${parent.blockId}\")\n",
    "    }\n",
    "    is Parent.WorkspaceParent -> {\n",
    "        println(\"   Type: Workspace (root level)\")\n",
    "    }\n",
    "}"
   ],
   "outputs": [
    {
     "name": "stdout",
     "output_type": "stream",
     "text": [
      "🔗 Page Parent Information:\n",
      "   Parent ID: 04645a33-97bc-4d6e-beba-a3442f58707a\n",
      "   Type: Page\n",
      "   Page ID: 04645a33-97bc-4d6e-beba-a3442f58707a\n"
     ]
    }
   ],
   "execution_count": 5
  },
  {
   "cell_type": "markdown",
   "metadata": {},
   "source": [
    "## Example 5: Error Handling\n",
    "\n",
    "Let's demonstrate proper error handling when things go wrong."
   ]
  },
  {
   "cell_type": "code",
   "metadata": {
    "ExecuteTime": {
     "end_time": "2025-10-16T21:02:15.972739Z",
     "start_time": "2025-10-16T21:02:15.565340Z"
    }
   },
   "source": "// Try to retrieve a non-existent page\nval fakePageId = \"00000000-0000-0000-0000-000000000000\"\n\ntry {\n    runBlocking {\n        notion.pages.retrieve(fakePageId)\n    }\n    println(\"This shouldn't happen!\")\n} catch (e: NotionException.ApiError) {\n    if (e.status == 404) {\n        println(\"✅ Caught expected error: Page not found\")\n        println(\"   Message: ${e.message}\")\n        println(\"   Status: ${e.status}\")\n        println(\"   Code: ${e.code}\")\n    } else {\n        println(\"❌ Unexpected API Error: ${e.message}\")\n        throw e\n    }\n} catch (e: NotionException.AuthenticationError) {\n    println(\"❌ Authentication failed: ${e.message}\")\n    println(\"   Check your NOTION_API_TOKEN is valid\")\n    throw e\n} catch (e: NotionException) {\n    println(\"❌ Unexpected error: ${e.message}\")\n    throw e\n}",
   "outputs": [
    {
     "name": "stdout",
     "output_type": "stream",
     "text": [
      "✅ Caught expected error: Page not found\n",
      "   Message: API error: 404 (HTTP 404) - HTTP 404: Not Found. Response: {\"object\":\"error\",\"status\":404,\"code\":\"object_not_found\",\"message\":\"Could not find page with ID: 00000000-0000-0000-0000-000000000000. Make sure the relevant pages and databases are shared with your integration.\",\"request_id\":\"c33bcdbd-6d29-4799-b792-32ab9a17ecbc\"}\n",
      "   Status: 404\n",
      "   Code: 404\n"
     ]
    }
   ],
   "execution_count": 6
  },
  {
   "cell_type": "markdown",
   "metadata": {},
   "source": [
    "## Example 6: Retrieve Page with Icon and Cover\n",
    "\n",
    "Pages can have icons and cover images. Let's check if our page has any."
   ]
  },
  {
   "metadata": {
    "ExecuteTime": {
     "end_time": "2025-10-16T21:02:20.125698Z",
     "start_time": "2025-10-16T21:02:20.043121Z"
    }
   },
   "cell_type": "code",
   "source": "import it.saabel.kotlinnotionclient.models.pages.PageIcon\nimport it.saabel.kotlinnotionclient.models.pages.PageCover\n\nprintln(\"🎨 Page Icon:\")\nwhen (val icon = page.icon) {\n    is PageIcon.Emoji -> println(\"   Emoji: ${icon.emoji}\")\n    is PageIcon.CustomEmoji -> println(\"   Custom emoji: ${icon.customEmoji.name} (${icon.customEmoji.id})\")\n    is PageIcon.External -> println(\"   External URL: ${icon.external.url}\")\n    is PageIcon.File -> println(\"   File URL: ${icon.file.url} (expires: ${icon.file.expiryTime})\")\n    is PageIcon.FileUpload -> println(\"   Upload ID: ${icon.fileUpload.id}\")\n    null -> println(\"   No icon set\")\n}\n\nprintln(\"\\n🖼️  Page Cover:\")\nwhen (val cover = page.cover) {\n    is PageCover.External -> println(\"   External URL: ${cover.external.url}\")\n    is PageCover.File -> println(\"   File URL: ${cover.file.url} (expires: ${cover.file.expiryTime})\")\n    is PageCover.FileUpload -> println(\"   Upload ID: ${cover.fileUpload.id}\")\n    null -> println(\"   No cover image set\")\n}",
   "outputs": [
    {
     "name": "stdout",
     "output_type": "stream",
     "text": [
      "🎨 Page Icon:\n",
      "   Emoji: 🧪\n",
      "\n",
      "🖼️  Page Cover:\n",
      "   No cover image set\n"
     ]
    }
   ],
   "execution_count": 7
  },
  {
   "metadata": {},
   "cell_type": "markdown",
   "source": [
    "## Cleanup\n",
    "\n",
    "It's good practice to close the client when you're done."
   ]
  },
  {
   "metadata": {
    "ExecuteTime": {
     "end_time": "2025-10-16T21:03:07.182234Z",
     "start_time": "2025-10-16T21:03:07.148205Z"
    }
   },
   "cell_type": "code",
   "source": [
    "notion.close()\n",
    "println(\"🔒 NotionClient closed successfully\")"
   ],
   "outputs": [
    {
     "name": "stdout",
     "output_type": "stream",
     "text": [
      "🔒 NotionClient closed successfully\n"
     ]
    }
   ],
   "execution_count": 8
  },
  {
   "cell_type": "markdown",
   "metadata": {},
   "source": [
    "## Next Steps\n",
    "\n",
    "Now that you understand the basics, explore:\n",
    "- **[02-reading-databases.ipynb](./02-reading-databases.ipynb)** - Query databases and data sources\n",
    "- **[03-creating-pages.ipynb](./03-creating-pages.ipynb)** - Create pages with properties\n",
    "- **[04-working-with-blocks.ipynb](./04-working-with-blocks.ipynb)** - Build page content with blocks\n",
    "- **[05-rich-text-dsl.ipynb](./05-rich-text-dsl.ipynb)** - Format text with the Rich Text DSL\n",
    "\n",
    "## Tips for Exploration\n",
    "\n",
    "- Modify the code cells and re-run them (`Shift + Enter`)\n",
    "- Try retrieving different pages from your workspace\n",
    "- Experiment with error handling for different scenarios\n",
    "- Check the [documentation](../docs/README.md) for more details"
   ]
  }
 ],
 "metadata": {
  "kernelspec": {
   "display_name": "Kotlin",
   "language": "kotlin",
   "name": "kotlin"
  },
  "language_info": {
   "codemirror_mode": "text/x-kotlin",
   "file_extension": ".kt",
   "mimetype": "text/x-kotlin",
   "name": "kotlin",
   "nbconvert_exporter": "",
   "pygments_lexer": "kotlin",
   "version": "1.9.0"
  }
 },
 "nbformat": 4,
 "nbformat_minor": 4
}
