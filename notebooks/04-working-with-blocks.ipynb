{
 "cells": [
  {
   "cell_type": "markdown",
   "metadata": {},
   "source": "# Working with Blocks\n\nThis notebook covers working with blocks in Notion - the building blocks of page content:\n- Retrieving blocks from a page\n- Appending different block types (paragraphs, headings, lists, code, etc.)\n- Creating blocks with rich text formatting\n- Updating and deleting blocks\n- Working with nested blocks (toggles, nested lists)\n- Building complete document structures\n\n## Prerequisites\n\nMake sure you have set these environment variables:\n- `NOTION_API_TOKEN` - Your Notion integration token\n- `NOTION_TEST_PAGE_ID` - A test page ID where we can create test content"
  },
  {
   "cell_type": "markdown",
   "metadata": {},
   "source": [
    "## Setup: Load Dependencies and Initialize Client"
   ]
  },
  {
   "cell_type": "code",
   "metadata": {
    "ExecuteTime": {
     "end_time": "2025-10-17T07:54:59.948530Z",
     "start_time": "2025-10-17T07:54:59.345627Z"
    }
   },
   "source": "// Load the Kotlin Notion Client library from Maven Central\n@file:DependsOn(\"it.saabel:kotlin-notion-client:0.1.0\")\n\n// Import necessary classes\nimport it.saabel.kotlinnotionclient.NotionClient\nimport it.saabel.kotlinnotionclient.models.blocks.Block\nimport kotlinx.coroutines.runBlocking\nimport kotlinx.coroutines.delay\n\n// Initialize the client\nval apiToken = System.getenv(\"NOTION_API_TOKEN\")\n    ?: error(\"❌ NOTION_API_TOKEN environment variable not set\")\n\nval parentPageId = System.getenv(\"NOTION_TEST_PAGE_ID\")\n    ?: error(\"❌ NOTION_TEST_PAGE_ID environment variable not set\")\n\nval notion = NotionClient(apiToken)\n\nprintln(\"✅ NotionClient initialized successfully!\")",
   "outputs": [
    {
     "name": "stdout",
     "output_type": "stream",
     "text": [
      "✅ NotionClient initialized successfully!\n"
     ]
    }
   ],
   "execution_count": 1
  },
  {
   "cell_type": "markdown",
   "metadata": {},
   "source": "## Understanding Blocks in Notion\n\nBlocks are the fundamental units of content in Notion. Every piece of content on a page is a block:\n- **Text Blocks**: Paragraphs, headings, quotes, callouts\n- **List Blocks**: Bulleted lists, numbered lists, to-do lists\n- **Media Blocks**: Images, videos, files, code blocks\n- **Layout Blocks**: Dividers, toggles, columns\n- **Database Blocks**: Inline databases and linked views\n\nIn this notebook, we'll explore how to work with blocks programmatically."
  },
  {
   "cell_type": "markdown",
   "source": "## Example 1: Create a Test Page with Initial Content\n\nFirst, let's create a test page with some initial blocks that we'll work with throughout this notebook.",
   "metadata": {}
  },
  {
   "metadata": {
    "ExecuteTime": {
     "end_time": "2025-10-17T07:56:08.014804Z",
     "start_time": "2025-10-17T07:56:05.267429Z"
    }
   },
   "cell_type": "code",
   "source": "val testPage = runBlocking {\n    notion.pages.create {\n        parent.page(parentPageId)\n        title(\"Blocks Examples - Test Page\")\n\n        content {\n            heading1(\"Welcome to Blocks!\")\n            paragraph(\"This page demonstrates working with blocks programmatically.\")\n        }\n\n        icon.emoji(\"📦\")\n    }\n}\n\nval testPageId = testPage.id\n\nprintln(\"✅ Test page created successfully!\")\nprintln(\"   Page ID: $testPageId\")\nprintln(\"   URL: ${testPage.url}\")\n\n// Wait a moment for the page to be fully created\nrunBlocking { delay(1000) }",
   "outputs": [
    {
     "name": "stdout",
     "output_type": "stream",
     "text": [
      "✅ Test page created successfully!\n",
      "   Page ID: 28fc63fd-82ed-811e-a4ea-e95466ade819\n",
      "   URL: https://www.notion.so/Blocks-Examples-Test-Page-28fc63fd82ed811ea4eae95466ade819\n"
     ]
    }
   ],
   "execution_count": 2
  },
  {
   "cell_type": "markdown",
   "source": "## Example 2: Retrieve Block Children\n\nLet's retrieve the blocks we just created and see what's on the page.",
   "metadata": {}
  },
  {
   "metadata": {
    "ExecuteTime": {
     "end_time": "2025-10-17T07:56:50.206032Z",
     "start_time": "2025-10-17T07:56:49.494950Z"
    }
   },
   "cell_type": "code",
   "source": "val blocks = runBlocking {\n    notion.blocks.retrieveChildren(testPageId)\n}\n\nprintln(\"✅ Retrieved ${blocks.size} blocks from the page:\")\nblocks.forEach { block ->\n    when (block) {\n        is Block.Heading1 -> {\n            val text = block.heading1.richText.firstOrNull()?.plainText\n            println(\"   📌 Heading 1: $text\")\n        }\n        is Block.Paragraph -> {\n            val text = block.paragraph.richText.firstOrNull()?.plainText\n            println(\"   📝 Paragraph: $text\")\n        }\n        else -> println(\"   ❓ ${block.type}: ${block.id}\")\n    }\n}",
   "outputs": [
    {
     "name": "stdout",
     "output_type": "stream",
     "text": [
      "✅ Retrieved 2 blocks from the page:\n",
      "   📌 Heading 1: Welcome to Blocks!\n",
      "   📝 Paragraph: This page demonstrates working with blocks programmatically.\n"
     ]
    }
   ],
   "execution_count": 3
  },
  {
   "cell_type": "markdown",
   "metadata": {},
   "source": "## Example 3: Append Simple Text Blocks\n\nLet's add various types of text blocks to our page."
  },
  {
   "metadata": {
    "ExecuteTime": {
     "end_time": "2025-10-17T07:57:32.518386Z",
     "start_time": "2025-10-17T07:57:27.736788Z"
    }
   },
   "cell_type": "code",
   "source": "runBlocking {\n    notion.blocks.appendChildren(testPageId) {\n        heading1(\"Project Documentation\")\n        \n        heading2(\"Overview\")\n        paragraph(\"This section provides an overview of the project.\")\n        \n        heading3(\"Key Features\")\n        paragraph(\"Our project includes the following features...\")\n        \n        divider()\n        \n        quote(\"The best way to predict the future is to invent it. - Alan Kay\")\n        \n        divider()\n    }\n    \n    delay(1000) // Wait for blocks to be created\n}\n\nprintln(\"✅ Text blocks appended successfully!\")",
   "outputs": [
    {
     "name": "stdout",
     "output_type": "stream",
     "text": [
      "✅ Text blocks appended successfully!\n"
     ]
    }
   ],
   "execution_count": 4
  },
  {
   "metadata": {
    "ExecuteTime": {
     "end_time": "2025-10-17T07:05:15.230019Z",
     "start_time": "2025-10-17T07:05:14.435524Z"
    }
   },
   "cell_type": "markdown",
   "source": "## Example 4: Append Blocks with Rich Text Formatting\n\nNow let's create blocks with formatted text using the Rich Text DSL."
  },
  {
   "cell_type": "code",
   "metadata": {
    "ExecuteTime": {
     "end_time": "2025-10-17T08:01:41.771100Z",
     "start_time": "2025-10-17T08:01:40.016593Z"
    }
   },
   "source": "runBlocking {\n    notion.blocks.appendChildren(testPageId) {\n        paragraph {\n            text(\"This paragraph contains \")\n            bold(\"bold text\")\n            text(\", \")\n            italic(\"italic text\")\n            text(\", \")\n            code(\"inline code\")\n            text(\", and \")\n            strikethrough(\"strikethrough text\")\n            text(\".\")\n        }\n        \n        paragraph {\n            text(\"You can also combine formatting: \")\n            boldItalic(\"bold + italic\")\n            text(\", or use \")\n            formattedText(\"multiple formats at once\", bold = true, underline = true, italic = true)\n            text(\".\")\n        }\n    }\n    \n    delay(1000)\n}\n\nprintln(\"✅ Formatted text blocks appended successfully!\")",
   "outputs": [
    {
     "name": "stdout",
     "output_type": "stream",
     "text": [
      "✅ Formatted text blocks appended successfully!\n"
     ]
    }
   ],
   "execution_count": 7
  },
  {
   "metadata": {
    "ExecuteTime": {
     "end_time": "2025-10-17T07:05:20.525789Z",
     "start_time": "2025-10-17T07:05:20.002150Z"
    }
   },
   "cell_type": "markdown",
   "source": "## Example 5: Create Different List Types\n\nNotion supports three types of lists: bulleted lists, numbered lists, and to-do lists."
  },
  {
   "cell_type": "code",
   "metadata": {
    "ExecuteTime": {
     "end_time": "2025-10-17T08:02:13.407778Z",
     "start_time": "2025-10-17T08:02:11.661147Z"
    }
   },
   "source": "runBlocking {\n    notion.blocks.appendChildren(testPageId) {\n        heading2(\"Features Checklist\")\n        \n        toDo(\"Set up development environment\", checked = true)\n        toDo(\"Implement core API client\", checked = true)\n        toDo(\"Write comprehensive tests\", checked = false)\n        toDo(\"Create documentation\", checked = false)\n        toDo(\"Deploy to production\", checked = false)\n        \n        heading2(\"Technology Stack\")\n        \n        bullet(\"Kotlin - Modern JVM language\")\n        bullet(\"Ktor - HTTP client library\")\n        bullet(\"Kotlinx.serialization - JSON handling\")\n        bullet(\"Kotest - Testing framework\")\n        \n        heading2(\"Implementation Steps\")\n        \n        number(\"Design API client architecture\")\n        number(\"Implement request/response models\")\n        number(\"Add authentication layer\")\n        number(\"Build DSL for common operations\")\n        number(\"Write unit and integration tests\")\n    }\n    \n    delay(1000)\n}\n\nprintln(\"✅ List blocks created successfully!\")",
   "outputs": [
    {
     "name": "stdout",
     "output_type": "stream",
     "text": [
      "✅ List blocks created successfully!\n"
     ]
    }
   ],
   "execution_count": 8
  },
  {
   "metadata": {
    "ExecuteTime": {
     "end_time": "2025-10-17T07:05:27.119870Z",
     "start_time": "2025-10-17T07:05:25.081922Z"
    }
   },
   "cell_type": "markdown",
   "source": "## Example 6: Create Code Blocks\n\nCode blocks are perfect for displaying code. You can specify the language, though note that the Notion API doesn't return syntax-highlighted code (Notion applies highlighting in the UI, not in the API data)."
  },
  {
   "metadata": {
    "ExecuteTime": {
     "end_time": "2025-10-17T08:02:45.895153Z",
     "start_time": "2025-10-17T08:02:44.212870Z"
    }
   },
   "cell_type": "code",
   "source": "runBlocking {\n    notion.blocks.appendChildren(testPageId) {\n        heading2(\"Code Examples\")\n        \n        paragraph(\"Here's how to initialize the Notion client in Kotlin:\")\n        \n        code(\n            language = \"kotlin\",\n            code = \"\"\"\n                val notion = NotionClient(apiToken = \"secret_...\")\n                val page = notion.pages.retrieve(\"page-id\")\n                println(page.title)\n            \"\"\".trimIndent()\n        )\n        \n        paragraph(\"And here's a Python example:\")\n        \n        code(\n            language = \"python\",\n            code = \"\"\"\n                from notion_client import Client\n                \n                notion = Client(auth=\"secret_...\")\n                page = notion.pages.retrieve(\"page-id\")\n                print(page['properties']['title'])\n            \"\"\".trimIndent()\n        )\n        \n        callout(\"💡\") {\n            text(\"Note: The \")\n            code(\"language\")\n            text(\" parameter sets the language for the block (visible in Notion UI), but the API returns plain text without syntax highlighting.\")\n        }\n    }\n    \n    delay(1000)\n}\n\nprintln(\"✅ Code blocks created successfully!\")",
   "outputs": [],
   "execution_count": null
  },
  {
   "metadata": {
    "ExecuteTime": {
     "end_time": "2025-10-17T07:05:31.785382Z",
     "start_time": "2025-10-17T07:05:31.385049Z"
    }
   },
   "cell_type": "markdown",
   "source": "## Example 7: Create Callout Blocks\n\nCallouts are great for highlighting important information with an icon."
  },
  {
   "metadata": {
    "ExecuteTime": {
     "end_time": "2025-10-17T08:05:48.873513Z",
     "start_time": "2025-10-17T08:05:45.610542Z"
    }
   },
   "cell_type": "code",
   "source": "runBlocking {\n    notion.blocks.appendChildren(testPageId) {\n        heading2(\"Important Notes\")\n        \n        callout(\"💡\") {\n            text(\"Tip: Use the Rich Text DSL for formatting text within blocks.\")\n        }\n        \n        callout(\"⚠️\") {\n            text(\"Warning: Always handle API rate limits appropriately.\")\n        }\n        \n        callout(\"✅\") {\n            text(\"Success: Your Notion integration is working correctly!\")\n        }\n        \n        callout(\"📚\") {\n            bold(\"Documentation: \")\n            text(\"Check out the official Notion API docs at \")\n            code(\"developers.notion.com\")\n        }\n    }\n    \n    delay(1000)\n}\n\nprintln(\"✅ Callout blocks created successfully!\")",
   "outputs": [
    {
     "name": "stdout",
     "output_type": "stream",
     "text": [
      "✅ Callout blocks created successfully!\n"
     ]
    }
   ],
   "execution_count": 10
  },
  {
   "metadata": {
    "ExecuteTime": {
     "end_time": "2025-10-17T07:05:35.712061Z",
     "start_time": "2025-10-17T07:05:35.318404Z"
    }
   },
   "cell_type": "markdown",
   "source": "## Example 8: Work with Toggle Blocks\n\nToggle blocks allow you to create collapsible sections with nested content."
  },
  {
   "metadata": {
    "ExecuteTime": {
     "end_time": "2025-10-17T08:06:09.371755Z",
     "start_time": "2025-10-17T08:06:06.102925Z"
    }
   },
   "cell_type": "code",
   "source": "// Create a toggle block first\nval result = runBlocking {\n    notion.blocks.appendChildren(testPageId) {\n        heading2(\"FAQ Section\")\n        toggle(\"What is Notion?\")\n    }\n}\n\nval toggleBlock = result.results.last()\n\nrunBlocking { delay(1000) }\n\n// Add nested content inside the toggle\nrunBlocking {\n    notion.blocks.appendChildren(toggleBlock.id) {\n        paragraph(\"Notion is an all-in-one workspace for notes, tasks, wikis, and databases.\")\n        bullet(\"Flexible content organization\")\n        bullet(\"Collaborative features\")\n        bullet(\"Powerful API for automation\")\n    }\n    \n    delay(1000)\n}\n\nprintln(\"✅ Toggle block with nested content created successfully!\")\nprintln(\"   Toggle ID: ${toggleBlock.id}\")",
   "outputs": [
    {
     "name": "stdout",
     "output_type": "stream",
     "text": [
      "✅ Toggle block with nested content created successfully!\n",
      "   Toggle ID: 28fc63fd-82ed-8166-834c-e0cb66f8460e\n"
     ]
    }
   ],
   "execution_count": 11
  },
  {
   "cell_type": "markdown",
   "source": "## Example 9: Update a Block\n\nYou can update existing blocks by their ID.",
   "metadata": {
    "ExecuteTime": {
     "end_time": "2025-10-17T07:08:30.231644Z",
     "start_time": "2025-10-17T07:08:29.411645Z"
    }
   }
  },
  {
   "metadata": {
    "ExecuteTime": {
     "end_time": "2025-10-17T08:06:30.481076Z",
     "start_time": "2025-10-17T08:06:23.607472Z"
    }
   },
   "cell_type": "code",
   "source": "// First, create a block to update\nval createResult = runBlocking {\n    notion.blocks.appendChildren(testPageId) {\n        heading2(\"Update Example\")\n        paragraph(\"This is the original text that will be updated.\")\n    }\n}\n\nval blockToUpdate = createResult.results.last()\n\nrunBlocking { delay(1000) }\n\n// Now update it\nval updatedBlock = runBlocking {\n    notion.blocks.update(blockToUpdate.id) {\n        paragraph {\n            bold(\"This text has been updated!\")\n            text(\" The update happened at ${java.time.LocalDateTime.now()}.\")\n        }\n    }\n}\n\nprintln(\"✅ Block updated successfully!\")\nprintln(\"   Block ID: ${updatedBlock.id}\")\n\nval paragraphBlock = updatedBlock as? Block.Paragraph\nval updatedText = paragraphBlock?.paragraph?.richText?.firstOrNull()?.plainText\nprintln(\"   New text: $updatedText\")",
   "outputs": [
    {
     "name": "stdout",
     "output_type": "stream",
     "text": [
      "✅ Block updated successfully!\n",
      "   Block ID: 28fc63fd-82ed-81cf-9f4d-e98f26f32a2a\n",
      "   New text: This text has been updated!\n"
     ]
    }
   ],
   "execution_count": 12
  },
  {
   "cell_type": "markdown",
   "source": "## Example 10: Delete a Block\n\nBlocks can be deleted (archived) by their ID.",
   "metadata": {}
  },
  {
   "cell_type": "code",
   "source": "// Create a block to delete\nval deleteResult = runBlocking {\n    notion.blocks.appendChildren(testPageId) {\n        paragraph(\"This block will be deleted shortly.\")\n    }\n}\n\nval blockToDelete = deleteResult.results.first()\n\nrunBlocking { delay(1000) }\n\n// Delete (archive) the block\nval deletedBlock = runBlocking {\n    notion.blocks.delete(blockToDelete.id)\n}\n\nprintln(\"✅ Block deleted successfully!\")\nprintln(\"   Block ID: ${deletedBlock.id}\")\nprintln(\"   Archived: ${deletedBlock.archived}\")",
   "metadata": {
    "ExecuteTime": {
     "end_time": "2025-10-17T08:07:12.281260Z",
     "start_time": "2025-10-17T08:06:56.027138Z"
    }
   },
   "outputs": [
    {
     "name": "stdout",
     "output_type": "stream",
     "text": [
      "✅ Block deleted successfully!\n",
      "   Block ID: 28fc63fd-82ed-8164-a84e-fbcb34c9197b\n",
      "   Archived: true\n"
     ]
    }
   ],
   "execution_count": 13
  },
  {
   "cell_type": "markdown",
   "source": "## Example 11: Create a Complete Document Structure\n\nLet's put it all together and create a new page with a comprehensive document structure.",
   "metadata": {}
  },
  {
   "cell_type": "code",
   "source": "val documentPage = runBlocking {\n    notion.pages.create {\n        parent.page(parentPageId)\n        title(\"Complete API Documentation Example\")\n\n        content {\n            heading1(\"API Documentation\")\n            \n            paragraph {\n                text(\"Welcome to the \")\n                bold(\"Kotlin Notion Client\")\n                text(\" documentation. This page demonstrates a complete document structure.\")\n            }\n            \n            divider()\n            \n            heading2(\"Getting Started\")\n            \n            paragraph(\"First, install the library from Maven Central:\")\n            \n            code(\n                language = \"kotlin\",\n                code = \"\"\"\n                    dependencies {\n                        implementation(\"it.saabel:kotlin-notion-client:0.1.0\")\n                    }\n                \"\"\".trimIndent()\n            )\n            \n            paragraph(\"Then initialize the client:\")\n            \n            code(\n                language = \"kotlin\",\n                code = \"\"\"\n                    val notion = NotionClient(apiToken = \"secret_...\")\n                \"\"\".trimIndent()\n            )\n            \n            heading2(\"Key Features\")\n            \n            bullet(\"Type-safe Kotlin API with DSL builders\")\n            bullet(\"Coroutine support for non-blocking I/O\")\n            bullet(\"Comprehensive error handling\")\n            bullet(\"Rich text formatting DSL\")\n            \n            heading2(\"Basic Operations\")\n            \n            callout(\"💡\") {\n                text(\"All API operations are \")\n                code(\"suspend\")\n                text(\" functions. Make sure to call them from a coroutine context.\")\n            }\n            \n            heading3(\"Pages\")\n            \n            number(\"Retrieve a page by ID\")\n            number(\"Create new pages with properties\")\n            number(\"Update existing pages\")\n            number(\"Archive pages\")\n            \n            heading3(\"Blocks\")\n            \n            number(\"Append blocks to pages\")\n            number(\"Retrieve block children\")\n            number(\"Update block content\")\n            number(\"Delete blocks\")\n            \n            divider()\n            \n            heading2(\"Best Practices\")\n            \n            toDo(\"Always handle rate limits\", checked = true)\n            toDo(\"Use type-safe property access\", checked = true)\n            toDo(\"Leverage Kotlin coroutines for concurrent operations\", checked = true)\n            toDo(\"Include proper error handling\", checked = false)\n            \n            divider()\n            \n            quote(\"Well-documented code is as valuable as the code itself.\")\n        }\n\n        icon.emoji(\"📚\")\n    }\n}\n\nprintln(\"✅ Complete document created successfully!\")\nprintln(\"   Page ID: ${documentPage.id}\")\nprintln(\"   URL: ${documentPage.url}\")",
   "metadata": {
    "ExecuteTime": {
     "end_time": "2025-10-17T08:07:33.920749Z",
     "start_time": "2025-10-17T08:07:33.043654Z"
    }
   },
   "outputs": [
    {
     "name": "stdout",
     "output_type": "stream",
     "text": [
      "✅ Complete document created successfully!\n",
      "   Page ID: 28fc63fd-82ed-8109-a4b9-db62397fdad6\n",
      "   URL: https://www.notion.so/Complete-API-Documentation-Example-28fc63fd82ed8109a4b9db62397fdad6\n"
     ]
    }
   ],
   "execution_count": 14
  },
  {
   "cell_type": "markdown",
   "source": "## Cleanup\n\nLet's clean up by archiving the test pages we created.",
   "metadata": {}
  },
  {
   "cell_type": "code",
   "source": "runBlocking {\n    // Archive the test pages\n    notion.pages.archive(testPageId)\n    notion.pages.archive(documentPage.id)\n}\n\nprintln(\"✅ Test pages archived successfully!\")",
   "metadata": {
    "ExecuteTime": {
     "end_time": "2025-10-17T08:08:04.855147Z",
     "start_time": "2025-10-17T08:08:03.765915Z"
    }
   },
   "outputs": [
    {
     "name": "stdout",
     "output_type": "stream",
     "text": [
      "✅ Test pages archived successfully!\n"
     ]
    }
   ],
   "execution_count": 15
  },
  {
   "cell_type": "markdown",
   "source": "## Summary\n\nIn this notebook, we explored working with blocks in Notion:\n\n### Key Operations\n- **Retrieve**: Get blocks from a page using `blocks.retrieveChildren(pageId)`\n- **Append**: Add new blocks using `blocks.appendChildren(blockId) { ... }`\n- **Update**: Modify existing blocks using `blocks.update(blockId) { ... }`\n- **Delete**: Archive blocks using `blocks.delete(blockId)`\n\n### Block Types Covered\n- **Text**: Paragraphs, headings (H1, H2, H3), quotes\n- **Lists**: Bulleted lists, numbered lists, to-do lists\n- **Code**: Code blocks with syntax highlighting\n- **Callouts**: Highlighted boxes with icons\n- **Layout**: Dividers, toggles (collapsible sections)\n\n### Rich Text Formatting\n- Use the Rich Text DSL within blocks for formatting\n- Supports: **bold**, *italic*, `code`, ~~strikethrough~~, underline\n- Combine multiple formats for complex styling\n\n### Best Practices\n1. Use `runBlocking` or other coroutine contexts for suspend functions\n2. Add `delay()` after mutations to allow API changes to propagate\n3. Use type-safe block access with pattern matching (`as? Block.Paragraph`)\n4. Nest blocks by appending children to a parent block's ID\n5. Build complete documents with the `content { }` DSL when creating pages\n\n## Next Steps\n\nExplore more advanced topics:\n- **[05-rich-text-dsl.ipynb](./05-rich-text-dsl.ipynb)** - Deep dive into text formatting\n- **[06-advanced-queries.ipynb](./06-advanced-queries.ipynb)** - Complex filtering and pagination",
   "metadata": {}
  }
 ],
 "metadata": {
  "kernelspec": {
   "display_name": "Kotlin",
   "language": "kotlin",
   "name": "kotlin"
  },
  "language_info": {
   "codemirror_mode": "text/x-kotlin",
   "file_extension": ".kt",
   "mimetype": "text/x-kotlin",
   "name": "kotlin",
   "nbconvert_exporter": "",
   "pygments_lexer": "kotlin",
   "version": "1.9.0"
  }
 },
 "nbformat": 4,
 "nbformat_minor": 4
}
