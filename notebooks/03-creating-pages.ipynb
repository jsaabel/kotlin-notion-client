{
 "cells": [
  {
   "cell_type": "markdown",
   "metadata": {},
   "source": "# Creating Pages\n\nThis notebook covers creating pages in Notion with different property types and configurations:\n- Creating pages in databases (as data source rows)\n- Creating child pages under other pages\n- Setting properties (title, select, number, date, checkbox, etc.)\n- Adding icons and covers\n- Creating pages with content blocks\n- Batch page creation patterns\n\n## Prerequisites\n\nMake sure you have set these environment variables:\n- `NOTION_API_TOKEN` - Your Notion integration token\n- `NOTION_TEST_PAGE_ID` - A test page ID where we can create test pages and databases"
  },
  {
   "cell_type": "markdown",
   "metadata": {},
   "source": [
    "## Setup: Load Dependencies and Initialize Client"
   ]
  },
  {
   "cell_type": "code",
   "metadata": {
    "ExecuteTime": {
     "end_time": "2025-10-23T08:16:04.239925Z",
     "start_time": "2025-10-23T08:16:03.587615Z"
    }
   },
   "source": "// Load the Kotlin Notion Client library from Maven Central\n@file:DependsOn(\"it.saabel:kotlin-notion-client:0.1.0\")\n\n// Import necessary classes\nimport it.saabel.kotlinnotionclient.NotionClient\nimport it.saabel.kotlinnotionclient.models.base.SelectOptionColor\nimport it.saabel.kotlinnotionclient.models.datasources.SortDirection\nimport it.saabel.kotlinnotionclient.models.pages.PageProperty\nimport kotlinx.coroutines.runBlocking\nimport kotlinx.coroutines.async\nimport kotlinx.coroutines.awaitAll\n\n// Initialize the client\nval apiToken = System.getenv(\"NOTION_API_TOKEN\")\n    ?: error(\"❌ NOTION_API_TOKEN environment variable not set\")\n\nval parentPageId = System.getenv(\"NOTION_TEST_PAGE_ID\")\n    ?: error(\"❌ NOTION_TEST_PAGE_ID environment variable not set\")\n\nval notion = NotionClient(apiToken)\n\nprintln(\"✅ NotionClient initialized successfully!\")",
   "outputs": [
    {
     "name": "stdout",
     "output_type": "stream",
     "text": [
      "✅ NotionClient initialized successfully!\n"
     ]
    }
   ],
   "execution_count": 1
  },
  {
   "cell_type": "markdown",
   "metadata": {},
   "source": "## Understanding Page Types in Notion\n\nIn Notion, there are two main ways to create pages:\n\n1. **Database Pages (Data Source Rows)**: Pages created within a database/data source\n   - Have custom properties defined by the database schema\n   - Use `parent.dataSource(dataSourceId)` when creating\n   - Properties set via the `properties { }` block\n\n2. **Child Pages**: Regular pages created as children of another page\n   - Have only the built-in `title` property\n   - Use `parent.page(pageId)` when creating\n   - Use `title()` directly (not in properties block)\n   - Can have content blocks added immediately"
  },
  {
   "cell_type": "markdown",
   "source": "## Example 1: Create a Test Database for Our Examples\n\nFirst, let's create a database with various property types that we'll use for demonstrating page creation.",
   "metadata": {}
  },
  {
   "metadata": {
    "ExecuteTime": {
     "end_time": "2025-10-23T08:16:12.740554Z",
     "start_time": "2025-10-23T08:16:10.862441Z"
    }
   },
   "cell_type": "code",
   "source": "val database = runBlocking {\n    notion.databases.create {\n        parent.page(parentPageId)\n        title(\"Project Tasks\")\n\n        properties {\n            title(\"Task Name\")\n            select(\"Status\") {\n                option(\"To Do\")\n                option(\"In Progress\")\n                option(\"Completed\")\n            }\n            select(\"Priority\") {\n                option(\"Low\")\n                option(\"Medium\")\n                option(\"High\")\n            }\n            number(\"Estimate (hours)\")\n            date(\"Due Date\")\n            checkbox(\"Is Blocking\")\n            richText(\"Notes\")\n        }\n    }\n}\n\n// Get the data source ID - we'll need this to create pages\nval dataSourceId = database.dataSources.firstOrNull()?.id\n    ?: error(\"Database has no data sources\")\n\nprintln(\"✅ Database created successfully!\")\nprintln(\"   Database ID: ${database.id}\")\nprintln(\"   Data Source ID: $dataSourceId\")\nprintln(\"   Title: ${database.title.firstOrNull()?.plainText}\")\nprintln(\"   URL: ${database.url}\")",
   "outputs": [
    {
     "name": "stdout",
     "output_type": "stream",
     "text": [
      "✅ Database created successfully!\n",
      "   Database ID: c4603d46-2961-406e-9b27-9f9b785f3e99\n",
      "   Data Source ID: d89f00d4-bbae-4e22-8a18-c820cc1d2368\n",
      "   Title: Project Tasks\n",
      "   URL: https://www.notion.so/c4603d462961406e9b279f9b785f3e99\n"
     ]
    }
   ],
   "execution_count": 2
  },
  {
   "cell_type": "markdown",
   "source": "## Example 2: Create a Page in a Data Source (Database Row)\n\nLet's create our first page in the database with various property types.",
   "metadata": {}
  },
  {
   "metadata": {
    "ExecuteTime": {
     "end_time": "2025-10-23T08:16:47.561687Z",
     "start_time": "2025-10-23T08:16:45.951415Z"
    }
   },
   "cell_type": "code",
   "source": [
    "import it.saabel.kotlinnotionclient.models.pages.PageIcon\n",
    "import it.saabel.kotlinnotionclient.models.pages.getSelectPropertyName\n",
    "import it.saabel.kotlinnotionclient.models.pages.getTitleAsPlainText\n",
    "\n",
    "val taskPage = runBlocking {\n",
    "    notion.pages.create {\n",
    "        // Specify the data source as parent\n",
    "        parent.dataSource(dataSourceId)\n",
    "\n",
    "        // Set property values\n",
    "        properties {\n",
    "            title(\"Task Name\", \"Implement user authentication\")\n",
    "            select(\"Status\", \"In Progress\")\n",
    "            select(\"Priority\", \"High\")\n",
    "            number(\"Estimate (hours)\", 8.0)\n",
    "            date(\"Due Date\", \"2025-10-20\")\n",
    "            checkbox(\"Is Blocking\", true)\n",
    "            richText(\"Notes\", \"This is a critical feature for the MVP release.\")\n",
    "        }\n",
    "\n",
    "        // Optional: Set icon and cover\n",
    "        icon.emoji(\"🔐\")\n",
    "        cover.external(\"https://images.unsplash.com/photo-1557683316-973673baf926\")\n",
    "    }\n",
    "}\n",
    "\n",
    "println(\"✅ Page created successfully!\")\n",
    "println(\"   Page ID: ${taskPage.id}\")\n",
    "println(\"   URL: ${taskPage.url}\")\n",
    "\n",
    "// Access the properties using extension functions\n",
    "println(\"   Title: ${taskPage.getTitleAsPlainText(\"Task Name\")}\")\n",
    "println(\"   Status: ${taskPage.getSelectPropertyName(\"Status\")}\")\n",
    "println(\"   Priority: ${taskPage.getSelectPropertyName(\"Priority\")}\")\n",
    "println(\"   Icon: ${(taskPage.icon as? PageIcon.Emoji)?.emoji}\")"
   ],
   "outputs": [
    {
     "name": "stdout",
     "output_type": "stream",
     "text": [
      "✅ Page created successfully!\n",
      "   Page ID: 295c63fd-82ed-8172-a614-c2dcfcb1fc92\n",
      "   URL: https://www.notion.so/Implement-user-authentication-295c63fd82ed8172a614c2dcfcb1fc92\n",
      "   Title: Implement user authentication\n",
      "   Status: In Progress\n",
      "   Priority: High\n",
      "   Icon: 🔐\n"
     ]
    }
   ],
   "execution_count": 4
  },
  {
   "cell_type": "markdown",
   "metadata": {},
   "source": "## Example 3: Create a Child Page\n\nNow let's create a regular page as a child of our test page."
  },
  {
   "metadata": {
    "ExecuteTime": {
     "end_time": "2025-10-23T08:16:59.197457Z",
     "start_time": "2025-10-23T08:16:56.958255Z"
    }
   },
   "cell_type": "code",
   "source": "val childPage = runBlocking {\n    notion.pages.create {\n        // Specify another page as parent\n        parent.page(parentPageId)\n\n        // For child pages, use title() directly (not in properties block)\n        title(\"Meeting Notes - October 2025\")\n\n        // Optional: Add content blocks immediately\n        content {\n            heading1(\"Key Takeaways\")\n\n            bullet(\"Decision made on authentication architecture\")\n            bullet(\"Timeline set for MVP release in Q1 2026\")\n            bullet(\"Team will focus on core features first\")\n\n            divider()\n\n            heading2(\"Action Items\")\n\n            number(\"Review security requirements\")\n            number(\"Set up CI/CD pipeline\")\n            number(\"Schedule next sprint planning\")\n\n            divider()\n\n            paragraph(\"Next meeting scheduled for next week.\")\n        }\n\n        // Optional: Set icon\n        icon.emoji(\"📝\")\n    }\n}\n\nprintln(\"✅ Child page created successfully!\")\nprintln(\"   Page ID: ${childPage.id}\")\nprintln(\"   URL: ${childPage.url}\")\nprintln(\"   Title: ${childPage.getTitleAsPlainText(\"title\")}\")",
   "outputs": [
    {
     "name": "stdout",
     "output_type": "stream",
     "text": [
      "✅ Child page created successfully!\n",
      "   Page ID: 295c63fd-82ed-81fe-8a13-d8883db072df\n",
      "   URL: https://www.notion.so/Meeting-Notes-October-2025-295c63fd82ed81fe8a13d8883db072df\n",
      "   Title: Meeting Notes - October 2025\n"
     ]
    }
   ],
   "execution_count": 5
  },
  {
   "metadata": {
    "ExecuteTime": {
     "end_time": "2025-10-17T07:05:15.230019Z",
     "start_time": "2025-10-17T07:05:14.435524Z"
    }
   },
   "cell_type": "markdown",
   "source": [
    "## Example 4: Create a Page with Rich Content\n",
    "\n",
    "Let's create a more complex page with formatted content using the Rich Text DSL."
   ]
  },
  {
   "cell_type": "code",
   "metadata": {
    "ExecuteTime": {
     "end_time": "2025-10-23T08:17:36.346806Z",
     "start_time": "2025-10-23T08:17:35.512385Z"
    }
   },
   "source": "val richPage = runBlocking {\n    notion.pages.create {\n        parent.page(parentPageId)\n        title(\"Project Plan\")\n\n        // Add structured content with rich formatting\n        content {\n            heading1(\"Project Overview\")\n\n            paragraph {\n                text(\"This project aims to \")\n                bold(\"revolutionize\")\n                text(\" how we handle \")\n                italic(\"user authentication\")\n                text(\" and \")\n                code(\"session management\")\n                text(\".\")\n            }\n\n            divider()\n\n            heading2(\"Technical Architecture\")\n\n            paragraph {\n                text(\"We'll use \")\n                bold(\"JWT tokens\")\n                text(\" for stateless authentication.\")\n            }\n\n            bullet(\"Token expiration: 24 hours\")\n            bullet(\"Refresh token rotation enabled\")\n            bullet(\"OAuth 2.0 integration for social logins\")\n\n            divider()\n\n            heading2(\"Timeline\")\n\n            number(\"Phase 1: Core authentication (2 weeks)\")\n            number(\"Phase 2: OAuth integration (1 week)\")\n            number(\"Phase 3: Testing and security audit (1 week)\")\n\n            divider()\n\n            callout(\"⚠️\") {\n                text(\"Note: Timeline subject to change based on security audit results.\")\n            }\n        }\n\n        icon.emoji(\"📋\")\n    }\n}\n\nprintln(\"✅ Page with rich content created successfully!\")\nprintln(\"   Page ID: ${richPage.id}\")\nprintln(\"   URL: ${richPage.url}\")",
   "outputs": [
    {
     "name": "stdout",
     "output_type": "stream",
     "text": [
      "✅ Page with rich content created successfully!\n",
      "   Page ID: 295c63fd-82ed-812f-9a2f-f34405362134\n",
      "   URL: https://www.notion.so/Project-Plan-295c63fd82ed812f9a2ff34405362134\n"
     ]
    }
   ],
   "execution_count": 6
  },
  {
   "metadata": {
    "ExecuteTime": {
     "end_time": "2025-10-17T07:05:20.525789Z",
     "start_time": "2025-10-17T07:05:20.002150Z"
    }
   },
   "cell_type": "markdown",
   "source": [
    "## Example 5: Batch Create Pages\n",
    "\n",
    "When you need to create multiple pages, you can use Kotlin's `map` function for sequential creation or coroutines for concurrent creation."
   ]
  },
  {
   "cell_type": "code",
   "metadata": {
    "ExecuteTime": {
     "end_time": "2025-10-23T08:18:21.516067Z",
     "start_time": "2025-10-23T08:18:15.064751Z"
    }
   },
   "source": "// Define multiple tasks to create\nval tasksToCreate = listOf(\n    Triple(\"Set up development environment\", \"To Do\", \"Low\"),\n    Triple(\"Write API documentation\", \"To Do\", \"Medium\"),\n    Triple(\"Implement error handling\", \"In Progress\", \"High\"),\n    Triple(\"Write unit tests\", \"To Do\", \"Medium\"),\n    Triple(\"Deploy to staging\", \"To Do\", \"Low\")\n)\n\n// Create all pages sequentially\nval createdPages = runBlocking {\n    tasksToCreate.map { (taskName, status, priority) ->\n        notion.pages.create {\n            parent.dataSource(dataSourceId)\n            properties {\n                title(\"Task Name\", taskName)\n                select(\"Status\", status)\n                select(\"Priority\", priority)\n            }\n        }\n    }\n}\n\nprintln(\"✅ Created ${createdPages.size} pages successfully!\")\ncreatedPages.forEach { page ->\n    val title = page.getTitleAsPlainText(\"Task Name\")\n    val status = page.getSelectPropertyName(\"Status\")\n    println(\"   - $title [$status]\")\n}",
   "outputs": [
    {
     "name": "stdout",
     "output_type": "stream",
     "text": [
      "✅ Created 5 pages successfully!\n",
      "   - Set up development environment [To Do]\n",
      "   - Write API documentation [To Do]\n",
      "   - Implement error handling [In Progress]\n",
      "   - Write unit tests [To Do]\n",
      "   - Deploy to staging [To Do]\n"
     ]
    }
   ],
   "execution_count": 7
  },
  {
   "metadata": {
    "ExecuteTime": {
     "end_time": "2025-10-17T07:05:27.119870Z",
     "start_time": "2025-10-17T07:05:25.081922Z"
    }
   },
   "cell_type": "markdown",
   "source": "## Example 6: Create Pages with Different Property Types\n\nLet's explore more property types available in Notion."
  },
  {
   "metadata": {
    "ExecuteTime": {
     "end_time": "2025-10-23T08:19:25.301727Z",
     "start_time": "2025-10-23T08:19:24.409492Z"
    }
   },
   "cell_type": "code",
   "source": [
    "import it.saabel.kotlinnotionclient.models.pages.getCheckboxProperty\n",
    "import it.saabel.kotlinnotionclient.models.pages.getDateProperty\n",
    "import it.saabel.kotlinnotionclient.models.pages.getNumberProperty\n",
    "\n",
    "val propertyExamplePage = runBlocking {\n",
    "    notion.pages.create {\n",
    "        parent.dataSource(dataSourceId)\n",
    "\n",
    "        properties {\n",
    "            // Title property (required for data source pages)\n",
    "            title(\"Task Name\", \"Property Types Example\")\n",
    "\n",
    "            // Select property (single option)\n",
    "            select(\"Status\", \"To Do\")\n",
    "            select(\"Priority\", \"Medium\")\n",
    "\n",
    "            // Number property\n",
    "            number(\"Estimate (hours)\", 12.5)\n",
    "\n",
    "            // Date property (just a date)\n",
    "            date(\"Due Date\", \"2025-11-01\")\n",
    "\n",
    "            // Checkbox property\n",
    "            checkbox(\"Is Blocking\", false)\n",
    "\n",
    "            // Rich text property\n",
    "            richText(\"Notes\", \"This page demonstrates various property types we can set when creating pages.\")\n",
    "        }\n",
    "\n",
    "        icon.emoji(\"🎯\")\n",
    "    }\n",
    "}\n",
    "\n",
    "println(\"✅ Page with various property types created!\")\n",
    "println(\"   Page ID: ${propertyExamplePage.id}\")\n",
    "\n",
    "// Access different property types using extension functions\n",
    "println(\"   Title: ${propertyExamplePage.getTitleAsPlainText(\"Task Name\")}\")\n",
    "println(\"   Estimate: ${propertyExamplePage.getNumberProperty(\"Estimate (hours)\")} hours\")\n",
    "println(\"   Due Date: ${propertyExamplePage.getDateProperty(\"Due Date\")?.start}\")\n",
    "println(\"   Is Blocking: ${propertyExamplePage.getCheckboxProperty(\"Is Blocking\")}\")"
   ],
   "outputs": [
    {
     "name": "stdout",
     "output_type": "stream",
     "text": [
      "✅ Page with various property types created!\n",
      "   Page ID: 295c63fd-82ed-8114-a302-f92c5080c3a0\n",
      "   Title: Property Types Example\n",
      "   Estimate: 12.5 hours\n",
      "   Due Date: 2025-11-01\n",
      "   Is Blocking: false\n"
     ]
    }
   ],
   "execution_count": 10
  },
  {
   "metadata": {
    "ExecuteTime": {
     "end_time": "2025-10-17T07:05:31.785382Z",
     "start_time": "2025-10-17T07:05:31.385049Z"
    }
   },
   "cell_type": "markdown",
   "source": "## Example 7: Working with Icons and Covers\n\nPages can have icons (emoji or external images) and cover images."
  },
  {
   "metadata": {
    "ExecuteTime": {
     "end_time": "2025-10-23T08:19:47.523516Z",
     "start_time": "2025-10-23T08:19:46.257327Z"
    }
   },
   "cell_type": "code",
   "source": "import it.saabel.kotlinnotionclient.models.pages.PageCover\n\nval styledPage = runBlocking {\n    notion.pages.create {\n        parent.dataSource(dataSourceId)\n\n        properties {\n            title(\"Task Name\", \"Design new landing page\")\n            select(\"Status\", \"In Progress\")\n            select(\"Priority\", \"High\")\n        }\n\n        // Set an emoji icon\n        icon.emoji(\"🎨\")\n\n        // Set a cover image from Unsplash\n        cover.external(\"https://images.unsplash.com/photo-1558618666-fcd25c85cd64\")\n    }\n}\n\nprintln(\"✅ Page with icon and cover created!\")\nprintln(\"   Page ID: ${styledPage.id}\")\nprintln(\"   Icon: ${(styledPage.icon as? PageIcon.Emoji)?.emoji}\")\nprintln(\"   Cover URL: ${(styledPage.cover as? PageCover.External)?.external?.url}\")",
   "outputs": [
    {
     "name": "stdout",
     "output_type": "stream",
     "text": [
      "✅ Page with icon and cover created!\n",
      "   Page ID: 295c63fd-82ed-81b7-9519-e03f3c34c1ff\n",
      "   Icon: 🎨\n",
      "   Cover URL: https://images.unsplash.com/photo-1558618666-fcd25c85cd64\n"
     ]
    }
   ],
   "execution_count": 11
  },
  {
   "metadata": {
    "ExecuteTime": {
     "end_time": "2025-10-17T07:05:35.712061Z",
     "start_time": "2025-10-17T07:05:35.318404Z"
    }
   },
   "cell_type": "markdown",
   "source": "## Cleanup\n\nLet's clean up by archiving the test database and child pages we created."
  },
  {
   "metadata": {
    "ExecuteTime": {
     "end_time": "2025-10-23T08:20:34.250833Z",
     "start_time": "2025-10-23T08:20:31.168790Z"
    }
   },
   "cell_type": "code",
   "source": "runBlocking {\n    // Archive the test database (this will archive all pages in it)\n    notion.databases.archive(database.id)\n\n    // Archive the child pages we created\n    notion.pages.archive(childPage.id)\n    notion.pages.archive(richPage.id)\n}\n\nprintln(\"✅ Test data archived successfully!\")",
   "outputs": [
    {
     "name": "stdout",
     "output_type": "stream",
     "text": [
      "✅ Test data archived successfully!\n"
     ]
    }
   ],
   "execution_count": 12
  },
  {
   "cell_type": "markdown",
   "source": "## Next Steps\n\nNow that you understand creating pages, explore:\n- **[04-working-with-blocks.ipynb](./04-working-with-blocks.ipynb)** - Build page content with blocks\n- **[05-rich-text-dsl.ipynb](./05-rich-text-dsl.ipynb)** - Format text with the Rich Text DSL\n- **[06-advanced-queries.ipynb](./06-advanced-queries.ipynb)** - Advanced filtering and pagination\n\n## Key Takeaways\n\n- **Two Page Types**: Database pages (data source rows) vs child pages\n- **Database Pages**: Use `parent.dataSource(id)` and set properties via `properties { }` block\n- **Child Pages**: Use `parent.page(id)` and set title with `title()` directly\n- **Property Types**: Support for title, select, number, date, checkbox, rich text, and more\n- **Content Blocks**: Can add content immediately when creating pages with `content { }` block\n- **Icons & Covers**: Customize page appearance with emojis or external images\n- **Batch Creation**: Use `map` for sequential or coroutines (`async`/`awaitAll`) for concurrent creation\n- **Property Access**: Use extension functions like `getTitleAsPlainText()`, `getSelectPropertyName()`, `getNumberProperty()`, etc. for clean, safe property access",
   "metadata": {
    "ExecuteTime": {
     "end_time": "2025-10-17T07:08:30.231644Z",
     "start_time": "2025-10-17T07:08:29.411645Z"
    }
   }
  },
  {
   "metadata": {},
   "cell_type": "markdown",
   "source": "## Bonus: Understanding the Differences\n\nHere's a quick reference for the key differences between the two page creation patterns:\n\n| Aspect | Database Page | Child Page |\n|--------|---------------|------------|\n| **Parent** | `parent.dataSource(id)` | `parent.page(id)` |\n| **Title** | `properties { title(\"PropName\", \"value\") }` | `title(\"value\")` |\n| **Custom Properties** | ✅ Yes (defined by database schema) | ❌ No (only built-in title) |\n| **Content Blocks** | ✅ Yes (via `content { }`) | ✅ Yes (via `content { }`) |\n| **Icons & Covers** | ✅ Yes | ✅ Yes |\n| **Use Case** | Structured data (tasks, contacts, etc.) | Documentation, notes, wikis |"
  }
 ],
 "metadata": {
  "kernelspec": {
   "display_name": "Kotlin",
   "language": "kotlin",
   "name": "kotlin"
  },
  "language_info": {
   "codemirror_mode": "text/x-kotlin",
   "file_extension": ".kt",
   "mimetype": "text/x-kotlin",
   "name": "kotlin",
   "nbconvert_exporter": "",
   "pygments_lexer": "kotlin",
   "version": "1.9.0"
  }
 },
 "nbformat": 4,
 "nbformat_minor": 4
}
