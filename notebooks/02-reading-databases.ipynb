{
 "cells": [
  {
   "cell_type": "markdown",
   "metadata": {},
   "source": "# Reading Databases and Data Sources\n\nThis notebook covers querying databases and data sources in Notion:\n- Understanding databases vs data sources\n- Retrieving database metadata\n- Querying pages from data sources\n- Filtering and sorting query results\n- Working with query pagination\n\n## Prerequisites\n\nMake sure you have set these environment variables:\n- `NOTION_API_TOKEN` - Your Notion integration token\n- `NOTION_TEST_PAGE_ID` - A test page ID where we can create test databases"
  },
  {
   "cell_type": "markdown",
   "metadata": {},
   "source": [
    "## Setup: Load Dependencies and Initialize Client"
   ]
  },
  {
   "cell_type": "code",
   "metadata": {
    "ExecuteTime": {
     "end_time": "2025-10-17T07:04:32.429523Z",
     "start_time": "2025-10-17T07:04:31.693551Z"
    }
   },
   "source": "// Load the Kotlin Notion Client library from Maven Central\n@file:DependsOn(\"it.saabel:kotlin-notion-client:0.1.0\")\n\n// Import necessary classes\nimport it.saabel.kotlinnotionclient.NotionClient\nimport it.saabel.kotlinnotionclient.models.base.SelectOptionColor\nimport it.saabel.kotlinnotionclient.models.datasources.SortDirection\nimport it.saabel.kotlinnotionclient.models.pages.PageProperty\nimport kotlinx.coroutines.runBlocking\nimport kotlinx.coroutines.async\nimport kotlinx.coroutines.awaitAll\n\n// Initialize the client\nval apiToken = System.getenv(\"NOTION_API_TOKEN\")\n    ?: error(\"❌ NOTION_API_TOKEN environment variable not set\")\n\nval parentPageId = System.getenv(\"NOTION_TEST_PAGE_ID\")\n    ?: error(\"❌ NOTION_TEST_PAGE_ID environment variable not set\")\n\nval notion = NotionClient(apiToken)\n\nprintln(\"✅ NotionClient initialized successfully!\")",
   "outputs": [
    {
     "name": "stdout",
     "output_type": "stream",
     "text": [
      "✅ NotionClient initialized successfully!\n"
     ]
    }
   ],
   "execution_count": 1
  },
  {
   "cell_type": "markdown",
   "metadata": {},
   "source": "## Understanding Databases vs Data Sources\n\nIn Notion:\n- A **Database** is a container that can hold multiple tables/views\n- A **Data Source** is a specific table within a database that stores the actual data\n- When you create a database, a default data source is automatically created\n- To query pages, you need the data source ID, not the database ID"
  },
  {
   "cell_type": "markdown",
   "source": "## Example 1: Create a Test Database\n\nLet's create a simple task database for our examples.",
   "metadata": {}
  },
  {
   "metadata": {
    "ExecuteTime": {
     "end_time": "2025-10-17T07:04:41.305593Z",
     "start_time": "2025-10-17T07:04:39.441477Z"
    }
   },
   "cell_type": "code",
   "source": [
    "val database = runBlocking {\n",
    "    notion.databases.create {\n",
    "        parent.page(parentPageId)\n",
    "        title(\"Task Tracker\")\n",
    "\n",
    "        properties {\n",
    "            title(\"Task Name\")\n",
    "            select(\"Status\") {\n",
    "                option(\"To Do\", SelectOptionColor.RED)\n",
    "                option(\"In Progress\", SelectOptionColor.YELLOW)\n",
    "                option(\"Done\", SelectOptionColor.GREEN)\n",
    "            }\n",
    "            number(\"Priority\")\n",
    "            date(\"Due Date\")\n",
    "            checkbox(\"Completed\")\n",
    "        }\n",
    "    }\n",
    "}\n",
    "\n",
    "// Get the data source ID - we'll need this to query pages\n",
    "val dataSourceId = database.dataSources.firstOrNull()?.id\n",
    "    ?: error(\"Database has no data sources\")\n",
    "\n",
    "println(\"✅ Database created successfully!\")\n",
    "println(\"   Database ID: ${database.id}\")\n",
    "println(\"   Data Source ID: $dataSourceId\")\n",
    "println(\"   Title: ${database.title.firstOrNull()?.plainText}\")\n",
    "println(\"   URL: ${database.url}\")"
   ],
   "outputs": [
    {
     "name": "stdout",
     "output_type": "stream",
     "text": [
      "✅ Database created successfully!\n",
      "   Database ID: 82cbe8f6-8ad1-4b48-92f4-30cd13de9dba\n",
      "   Data Source ID: f40c7689-f1b5-43b0-aa24-cbc992b8492d\n",
      "   Title: Task Tracker\n",
      "   URL: https://www.notion.so/82cbe8f68ad14b4892f430cd13de9dba\n"
     ]
    }
   ],
   "execution_count": 2
  },
  {
   "cell_type": "markdown",
   "source": "## Example 2: Add Some Test Data\n\nLet's populate the database with some sample tasks. We'll use Kotlin coroutines to create all pages concurrently for better performance.",
   "metadata": {}
  },
  {
   "metadata": {
    "ExecuteTime": {
     "end_time": "2025-10-17T07:04:53.519631Z",
     "start_time": "2025-10-17T07:04:49.204859Z"
    }
   },
   "cell_type": "code",
   "source": [
    "// Create a few test pages\n",
    "val taskData = listOf(\n",
    "    Triple(\"Write documentation\", \"In Progress\", 8.0),\n",
    "    Triple(\"Fix bug in authentication\", \"To Do\", 9.0),\n",
    "    Triple(\"Implement new feature\", \"To Do\", 5.0),\n",
    "    Triple(\"Update dependencies\", \"Done\", 3.0),\n",
    "    Triple(\"Review pull requests\", \"In Progress\", 7.0)\n",
    ")\n",
    "\n",
    "// Use coroutines to create all pages concurrently for better performance\n",
    "runBlocking {\n",
    "    taskData.map { (taskName, status, priority) ->\n",
    "        async {\n",
    "            notion.pages.create {\n",
    "                parent.dataSource(dataSourceId)\n",
    "                properties {\n",
    "                    title(\"Task Name\", taskName)\n",
    "                    select(\"Status\", status)\n",
    "                    number(\"Priority\", priority)\n",
    "                }\n",
    "            }\n",
    "        }\n",
    "    }.awaitAll()\n",
    "}\n",
    "\n",
    "println(\"✅ Created ${taskData.size} test tasks concurrently\")"
   ],
   "outputs": [
    {
     "name": "stdout",
     "output_type": "stream",
     "text": [
      "✅ Created 5 test tasks concurrently\n"
     ]
    }
   ],
   "execution_count": 3
  },
  {
   "cell_type": "markdown",
   "metadata": {},
   "source": "## Example 4: Retrieve Data Source Schema\n\nNow let's look at the data source to see its schema (property definitions)."
  },
  {
   "metadata": {
    "ExecuteTime": {
     "end_time": "2025-10-17T07:05:08.240533Z",
     "start_time": "2025-10-17T07:05:07.812569Z"
    }
   },
   "cell_type": "code",
   "source": [
    "val retrievedDb = runBlocking {\n",
    "    notion.databases.retrieve(database.id)\n",
    "}\n",
    "\n",
    "println(\"📊 Database Information:\")\n",
    "println(\"   Title: ${retrievedDb.title.firstOrNull()?.plainText}\")\n",
    "println(\"   Created: ${retrievedDb.createdTime}\")\n",
    "println(\"   Last edited: ${retrievedDb.lastEditedTime}\")\n",
    "println(\"   Archived: ${retrievedDb.archived}\")\n",
    "println(\"   In trash: ${retrievedDb.inTrash}\")\n",
    "\n",
    "println(\"\\n📋 Data Sources:\")\n",
    "retrievedDb.dataSources.forEach { println(\"   - ID: ${it.id}\")\n",
    "}"
   ],
   "outputs": [
    {
     "name": "stdout",
     "output_type": "stream",
     "text": [
      "📊 Database Information:\n",
      "   Title: Task Tracker\n",
      "   Created: 2025-10-17T07:04:40.316+00:00\n",
      "   Last edited: 2025-10-17T07:04:40.316+00:00\n",
      "   Archived: false\n",
      "   In trash: false\n",
      "\n",
      "📋 Data Sources:\n",
      "   - ID: f40c7689-f1b5-43b0-aa24-cbc992b8492d\n"
     ]
    }
   ],
   "execution_count": 4
  },
  {
   "metadata": {
    "ExecuteTime": {
     "end_time": "2025-10-17T07:05:15.230019Z",
     "start_time": "2025-10-17T07:05:14.435524Z"
    }
   },
   "cell_type": "code",
   "source": "val dataSource = runBlocking {\n    notion.dataSources.retrieve(dataSourceId)\n}\n\nprintln(\"📋 Data Source Schema:\")\nprintln(\"   Name: ${dataSource.title.firstOrNull()?.plainText}\")\nprintln(\"   Properties:\")\n\ndataSource.properties.forEach { (propName, config) ->\n    println(\"      - $propName: ${config.type}\")\n}",
   "outputs": [
    {
     "name": "stdout",
     "output_type": "stream",
     "text": [
      "📋 Data Source Schema:\n",
      "   Name: Task Tracker\n",
      "   Properties:\n",
      "      - Priority: number\n",
      "      - Due Date: date\n",
      "      - Status: select\n",
      "      - Completed: checkbox\n",
      "      - Task Name: title\n"
     ]
    }
   ],
   "execution_count": 5
  },
  {
   "cell_type": "markdown",
   "metadata": {},
   "source": "## Example 5: Query All Pages (Simple Query)\n\nThe simplest way to get pages from a data source."
  },
  {
   "cell_type": "code",
   "metadata": {
    "ExecuteTime": {
     "end_time": "2025-10-17T07:05:20.525789Z",
     "start_time": "2025-10-17T07:05:20.002150Z"
    }
   },
   "source": "val allPages = runBlocking {\n    notion.dataSources.query(dataSourceId) {}\n}\n\nprintln(\"📄 All Pages (${allPages.size} total):\")\nallPages.forEach { page ->\n    val titleProp = page.properties[\"Task Name\"] as? PageProperty.Title\n    val title = titleProp?.plainText ?: \"Untitled\"\n    \n    val statusProp = page.properties[\"Status\"] as? PageProperty.Select\n    val status = statusProp?.select?.name ?: \"No status\"\n    \n    println(\"   - $title [$status]\")\n}",
   "outputs": [
    {
     "name": "stdout",
     "output_type": "stream",
     "text": [
      "📄 All Pages (5 total):\n",
      "   - Review pull requests [In Progress]\n",
      "   - Update dependencies [Done]\n",
      "   - Implement new feature [To Do]\n",
      "   - Fix bug in authentication [To Do]\n",
      "   - Write documentation [In Progress]\n"
     ]
    }
   ],
   "execution_count": 6
  },
  {
   "cell_type": "markdown",
   "metadata": {},
   "source": "## Example 6: Query with Filters\n\nLet's filter to show only tasks with status \"To Do\"."
  },
  {
   "metadata": {
    "ExecuteTime": {
     "end_time": "2025-10-17T07:05:27.119870Z",
     "start_time": "2025-10-17T07:05:25.081922Z"
    }
   },
   "cell_type": "code",
   "source": "val todoPages = runBlocking {\n    notion.dataSources.query(dataSourceId) {\n        filter {\n            select(\"Status\").equals(\"To Do\")\n        }\n    }\n}\n\nprintln(\"📋 To Do Tasks (${todoPages.size} total):\")\ntodoPages.forEach { page ->\n    val titleProp = page.properties[\"Task Name\"] as? PageProperty.Title\n    val title = titleProp?.plainText ?: \"Untitled\"\n    \n    val priorityProp = page.properties[\"Priority\"] as? PageProperty.Number\n    val priority = priorityProp?.number ?: 0.0\n    \n    println(\"   - $title (Priority: $priority)\")\n}",
   "outputs": [
    {
     "name": "stdout",
     "output_type": "stream",
     "text": [
      "📋 To Do Tasks (2 total):\n",
      "   - Implement new feature (Priority: 5.0)\n",
      "   - Fix bug in authentication (Priority: 9.0)\n"
     ]
    }
   ],
   "execution_count": 7
  },
  {
   "metadata": {},
   "cell_type": "markdown",
   "source": "## Example 7: Query with Complex Filters\n\nCombine multiple conditions using `and()` and `or()`."
  },
  {
   "metadata": {
    "ExecuteTime": {
     "end_time": "2025-10-17T07:05:31.785382Z",
     "start_time": "2025-10-17T07:05:31.385049Z"
    }
   },
   "cell_type": "code",
   "source": "val urgentTasks = runBlocking {\n    notion.dataSources.query(dataSourceId) {\n        filter {\n            and(\n                select(\"Status\").equals(\"To Do\"),\n                number(\"Priority\").greaterThan(7.0)\n            )\n        }\n    }\n}\n\nprintln(\"🔥 Urgent To Do Tasks (${urgentTasks.size} total):\")\nurgentTasks.forEach { page ->\n    val titleProp = page.properties[\"Task Name\"] as? PageProperty.Title\n    val title = titleProp?.plainText ?: \"Untitled\"\n    \n    val priorityProp = page.properties[\"Priority\"] as? PageProperty.Number\n    val priority = priorityProp?.number ?: 0.0\n    \n    println(\"   - $title (Priority: $priority)\")\n}",
   "outputs": [
    {
     "name": "stdout",
     "output_type": "stream",
     "text": [
      "🔥 Urgent To Do Tasks (1 total):\n",
      "   - Fix bug in authentication (Priority: 9.0)\n"
     ]
    }
   ],
   "execution_count": 8
  },
  {
   "metadata": {},
   "cell_type": "markdown",
   "source": [
    "## Example 8: Query with Sorting\n",
    "\n",
    "Sort results by priority in descending order."
   ]
  },
  {
   "metadata": {
    "ExecuteTime": {
     "end_time": "2025-10-17T07:05:35.712061Z",
     "start_time": "2025-10-17T07:05:35.318404Z"
    }
   },
   "cell_type": "code",
   "outputs": [
    {
     "name": "stdout",
     "output_type": "stream",
     "text": [
      "📊 Tasks by Priority (highest first):\n",
      "   - [Priority 9.0] Fix bug in authentication - To Do\n",
      "   - [Priority 8.0] Write documentation - In Progress\n",
      "   - [Priority 7.0] Review pull requests - In Progress\n",
      "   - [Priority 5.0] Implement new feature - To Do\n",
      "   - [Priority 3.0] Update dependencies - Done\n"
     ]
    }
   ],
   "execution_count": 9,
   "source": [
    "val sortedPages = runBlocking {\n",
    "    notion.dataSources.query(dataSourceId) {\n",
    "        sortBy(\"Priority\", SortDirection.DESCENDING)\n",
    "    }\n",
    "}\n",
    "\n",
    "println(\"📊 Tasks by Priority (highest first):\")\n",
    "sortedPages.forEach { page ->\n",
    "    val titleProp = page.properties[\"Task Name\"] as? PageProperty.Title\n",
    "    val title = titleProp?.plainText ?: \"Untitled\"\n",
    "\n",
    "    val priorityProp = page.properties[\"Priority\"] as? PageProperty.Number\n",
    "    val priority = priorityProp?.number ?: 0.0\n",
    "\n",
    "    val statusProp = page.properties[\"Status\"] as? PageProperty.Select\n",
    "    val status = statusProp?.select?.name ?: \"No status\"\n",
    "\n",
    "    println(\"   - [Priority $priority] $title - $status\")\n",
    "}"
   ]
  },
  {
   "metadata": {},
   "cell_type": "markdown",
   "source": [
    "## Cleanup\n",
    "\n",
    "Archive the test database when done."
   ]
  },
  {
   "cell_type": "code",
   "source": [
    "// Archive the test database to clean up\n",
    "runBlocking {\n",
    "    notion.databases.archive(database.id)\n",
    "}\n",
    "\n",
    "println(\"✅ Test database archived successfully!\")"
   ],
   "metadata": {
    "ExecuteTime": {
     "end_time": "2025-10-17T07:08:30.231644Z",
     "start_time": "2025-10-17T07:08:29.411645Z"
    }
   },
   "outputs": [
    {
     "name": "stdout",
     "output_type": "stream",
     "text": [
      "✅ Test database archived successfully!\n"
     ]
    }
   ],
   "execution_count": 11
  },
  {
   "metadata": {},
   "cell_type": "markdown",
   "source": [
    "## Next Steps\n",
    "\n",
    "Now that you understand querying databases and data sources, explore:\n",
    "- **[03-creating-pages.ipynb](./03-creating-pages.ipynb)** - Create pages with properties\n",
    "- **[04-working-with-blocks.ipynb](./04-working-with-blocks.ipynb)** - Build page content with blocks\n",
    "- **[05-rich-text-dsl.ipynb](./05-rich-text-dsl.ipynb)** - Format text with the Rich Text DSL\n",
    "\n",
    "## Key Takeaways\n",
    "\n",
    "- **Database vs Data Source**: Databases are containers; data sources are the actual tables with data\n",
    "- **Getting Data Source ID**: Access via `database.dataSources.firstOrNull()?.id`\n",
    "- **Querying**: Use `notion.dataSources.query(dataSourceId) { }` with optional filters and sorting\n",
    "- **Filters**: Combine conditions with `and()` and `or()` for powerful queries\n",
    "- **Sorting**: Use `sortBy()` with `SortDirection.ASCENDING` or `DESCENDING`\n",
    "- **Pagination**: Handled automatically - you always get all matching pages\n",
    "- **Property Access**: Use type-safe pattern matching with `when` to access different property types"
   ]
  }
 ],
 "metadata": {
  "kernelspec": {
   "display_name": "Kotlin",
   "language": "kotlin",
   "name": "kotlin"
  },
  "language_info": {
   "codemirror_mode": "text/x-kotlin",
   "file_extension": ".kt",
   "mimetype": "text/x-kotlin",
   "name": "kotlin",
   "nbconvert_exporter": "",
   "pygments_lexer": "kotlin",
   "version": "1.9.0"
  }
 },
 "nbformat": 4,
 "nbformat_minor": 4
}
