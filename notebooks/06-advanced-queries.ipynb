{
 "cells": [
  {
   "cell_type": "markdown",
   "metadata": {},
   "source": "# Advanced Queries\n\nThis notebook provides a comprehensive guide to advanced query features in the Kotlin Notion Client:\n- Complex filters (AND, OR, multiple conditions)\n- Multiple filter types (title, text, number, checkbox, date, select)\n- Sorting (single and multiple sort criteria)\n- Pagination (page size and automatic fetching)\n- Query performance patterns\n- Real-world query examples\n\n## Prerequisites\n\nMake sure you have set these environment variables:\n- `NOTION_API_TOKEN` - Your Notion integration token\n- `NOTION_TEST_PAGE_ID` - A test page ID where we can create test content"
  },
  {
   "cell_type": "markdown",
   "metadata": {},
   "source": [
    "## Setup: Load Dependencies and Initialize Client"
   ]
  },
  {
   "cell_type": "code",
   "metadata": {
    "ExecuteTime": {
     "end_time": "2025-10-17T08:42:50.042043Z",
     "start_time": "2025-10-17T08:42:49.414950Z"
    }
   },
   "source": "// Load the Kotlin Notion Client library from Maven Central\n@file:DependsOn(\"it.saabel:kotlin-notion-client:0.1.0\")\n\n// Import necessary classes\nimport it.saabel.kotlinnotionclient.NotionClient\nimport it.saabel.kotlinnotionclient.models.datasources.SortDirection\nimport it.saabel.kotlinnotionclient.models.pages.*\nimport kotlinx.coroutines.runBlocking\nimport kotlinx.coroutines.delay\nimport kotlinx.coroutines.async\nimport kotlinx.coroutines.awaitAll\n\n// Initialize the client\nval apiToken = System.getenv(\"NOTION_API_TOKEN\")\n    ?: error(\"❌ NOTION_API_TOKEN environment variable not set\")\n\nval parentPageId = System.getenv(\"NOTION_TEST_PAGE_ID\")\n    ?: error(\"❌ NOTION_TEST_PAGE_ID environment variable not set\")\n\nval notion = NotionClient(apiToken)\n\nprintln(\"✅ NotionClient initialized successfully!\")",
   "outputs": [
    {
     "name": "stdout",
     "output_type": "stream",
     "text": [
      "✅ NotionClient initialized successfully!\n"
     ]
    }
   ],
   "execution_count": 1
  },
  {
   "cell_type": "markdown",
   "metadata": {},
   "source": "## Understanding Queries in Notion\n\nQuerying in Notion allows you to:\n- **Filter** data based on property values (text, numbers, dates, checkboxes, etc.)\n- **Sort** results by one or more properties\n- **Paginate** large result sets efficiently\n- **Combine conditions** using AND/OR logic\n\nThe Kotlin Notion Client provides a type-safe DSL for building complex queries that helps prevent errors and makes your code more maintainable."
  },
  {
   "cell_type": "markdown",
   "source": "## Setup: Create a Test Database with Sample Data\n\nLet's create a database with various property types and populate it with test data for our query examples.",
   "metadata": {}
  },
  {
   "metadata": {
    "ExecuteTime": {
     "end_time": "2025-10-17T08:52:59.729760Z",
     "start_time": "2025-10-17T08:52:56.887254Z"
    }
   },
   "cell_type": "code",
   "source": [
    "// Create a test database with multiple property types\n",
    "val database = runBlocking {\n",
    "    notion.databases.create {\n",
    "        parent.page(parentPageId)\n",
    "        title(\"Advanced Query Examples - Task Tracker\")\n",
    "        properties {\n",
    "            title(\"Name\")\n",
    "            select(\"Status\")\n",
    "            select(\"Priority\")\n",
    "            checkbox(\"Completed\")\n",
    "            number(\"Score\")\n",
    "            select(\"Category\")\n",
    "        }\n",
    "    }\n",
    "}\n",
    "\n",
    "println(\"✅ Database created: ${database.id}\")\n",
    "\n",
    "// Wait for database to be ready\n",
    "runBlocking { delay(1000) }\n",
    "\n",
    "// Get the data source ID (for 2025-09-03 API)\n",
    "val retrievedDb = runBlocking { notion.databases.retrieve(database.id) }\n",
    "val databaseUrl = retrievedDb.url\n",
    "val dataSourceId = retrievedDb.dataSources.first().id\n",
    "\n",
    "println(\"✅ Data source ID: $dataSourceId\")\n",
    "println(\"✅ URL for database: $databaseUrl\")\n"
   ],
   "outputs": [
    {
     "name": "stdout",
     "output_type": "stream",
     "text": [
      "✅ Database created: 6dfe13ec-f301-4f08-8be7-ac93cf9deb74\n",
      "✅ Data source ID: 6625c800-3aea-4bb8-bad0-dacac0337296\n",
      "✅ URL for database: https://www.notion.so/6dfe13ecf3014f088be7ac93cf9deb74\n"
     ]
    }
   ],
   "execution_count": 4
  },
  {
   "cell_type": "markdown",
   "source": "## Add Sample Data\n\nNow let's populate the database with diverse test data using concurrent page creation.",
   "metadata": {}
  },
  {
   "metadata": {
    "ExecuteTime": {
     "end_time": "2025-10-17T08:56:06.932941Z",
     "start_time": "2025-10-17T08:56:00.711107Z"
    }
   },
   "cell_type": "code",
   "source": "// Define test data\nval testTasks = listOf(\n    Triple(\"High Priority Bug Fix\", \"In Progress\", 95.0) to mapOf(\"Status\" to \"In Progress\", \"Priority\" to \"High\", \"Completed\" to false, \"Category\" to \"Bug\"),\n    Triple(\"Complete Documentation\", \"To Do\", 75.0) to mapOf(\"Status\" to \"To Do\", \"Priority\" to \"Medium\", \"Completed\" to false, \"Category\" to \"Documentation\"),\n    Triple(\"Low Priority Feature\", \"To Do\", 45.0) to mapOf(\"Status\" to \"To Do\", \"Priority\" to \"Low\", \"Completed\" to false, \"Category\" to \"Feature\"),\n    Triple(\"Finished Task\", \"Done\", 85.0) to mapOf(\"Status\" to \"Done\", \"Priority\" to \"High\", \"Completed\" to true, \"Category\" to \"Feature\"),\n    Triple(\"Another Done Task\", \"Done\", 65.0) to mapOf(\"Status\" to \"Done\", \"Priority\" to \"Medium\", \"Completed\" to true, \"Category\" to \"Bug\"),\n    Triple(\"Critical Security Fix\", \"In Progress\", 100.0) to mapOf(\"Status\" to \"In Progress\", \"Priority\" to \"High\", \"Completed\" to false, \"Category\" to \"Security\"),\n    Triple(\"Refactor Old Code\", \"To Do\", 50.0) to mapOf(\"Status\" to \"To Do\", \"Priority\" to \"Low\", \"Completed\" to false, \"Category\" to \"Refactor\"),\n    Triple(\"Write Unit Tests\", \"In Progress\", 80.0) to mapOf(\"Status\" to \"In Progress\", \"Priority\" to \"Medium\", \"Completed\" to false, \"Category\" to \"Testing\")\n)\n\n// Create pages concurrently for better performance\nval pages = runBlocking {\n    testTasks.map { (nameData, props) ->\n        val (name, _, score) = nameData\n        async {\n            notion.pages.create {\n                parent.dataSource(dataSourceId)\n                properties {\n                    title(\"Name\", name)\n                    select(\"Status\", props[\"Status\"] as String)\n                    select(\"Priority\", props[\"Priority\"] as String)\n                    checkbox(\"Completed\", props[\"Completed\"] as Boolean)\n                    number(\"Score\", score)\n                    select(\"Category\", props[\"Category\"] as String)\n                }\n            }\n        }\n    }.awaitAll()\n}\n\nprintln(\"✅ Created ${pages.size} test pages concurrently\")\n\n// Wait for pages to be indexed\nrunBlocking { delay(1000) }",
   "outputs": [
    {
     "name": "stdout",
     "output_type": "stream",
     "text": [
      "✅ Created 8 test pages concurrently\n"
     ]
    }
   ],
   "execution_count": 7
  },
  {
   "cell_type": "markdown",
   "metadata": {},
   "source": "## Example 1: Simple Query (All Pages)\n\nThe simplest query retrieves all pages from a data source without any filters."
  },
  {
   "metadata": {
    "ExecuteTime": {
     "end_time": "2025-10-17T08:56:27.682432Z",
     "start_time": "2025-10-17T08:56:27.214260Z"
    }
   },
   "cell_type": "code",
   "source": "// Query all pages (no filter)\nval allPages = runBlocking {\n    notion.dataSources.query(dataSourceId)\n}\n\nprintln(\"✅ Query all pages: ${allPages.size} results\")\nallPages.forEach { page ->\n    val name = page.getTitleAsPlainText(\"Name\")\n    val score = page.getNumberProperty(\"Score\")\n    println(\"   - $name (Score: $score)\")\n}",
   "outputs": [
    {
     "name": "stdout",
     "output_type": "stream",
     "text": [
      "✅ Query all pages: 8 results\n",
      "   - Another Done Task (Score: 65.0)\n",
      "   - Complete Documentation (Score: 75.0)\n",
      "   - Write Unit Tests (Score: 80.0)\n",
      "   - Low Priority Feature (Score: 45.0)\n",
      "   - Refactor Old Code (Score: 50.0)\n",
      "   - Critical Security Fix (Score: 100.0)\n",
      "   - High Priority Bug Fix (Score: 95.0)\n",
      "   - Finished Task (Score: 85.0)\n"
     ]
    }
   ],
   "execution_count": 8
  },
  {
   "metadata": {
    "ExecuteTime": {
     "end_time": "2025-10-17T07:05:15.230019Z",
     "start_time": "2025-10-17T07:05:14.435524Z"
    }
   },
   "cell_type": "markdown",
   "source": "## Example 2: Single Filter - Checkbox\n\nFilter by a checkbox property to find completed or incomplete tasks."
  },
  {
   "cell_type": "code",
   "metadata": {
    "ExecuteTime": {
     "end_time": "2025-10-17T08:57:07.394335Z",
     "start_time": "2025-10-17T08:57:06.894823Z"
    }
   },
   "source": "// Query completed tasks\nval completedTasks = runBlocking {\n    notion.dataSources.query(dataSourceId) {\n        filter {\n            checkbox(\"Completed\").equals(true)\n        }\n    }\n}\n\nprintln(\"✅ Completed tasks: ${completedTasks.size} results\")\ncompletedTasks.forEach { page ->\n    val name = page.getTitleAsPlainText(\"Name\")\n    val status = page.getSelectProperty(\"Status\")\n    println(\"   - $name (Status: ${status?.name})\")\n}",
   "outputs": [
    {
     "name": "stdout",
     "output_type": "stream",
     "text": [
      "✅ Completed tasks: 3 results\n",
      "   - Another Done Task (Status: Done)\n",
      "   - Low Priority Feature (Status: To Do)\n",
      "   - Finished Task (Status: Done)\n"
     ]
    }
   ],
   "execution_count": 10
  },
  {
   "metadata": {
    "ExecuteTime": {
     "end_time": "2025-10-17T07:05:20.525789Z",
     "start_time": "2025-10-17T07:05:20.002150Z"
    }
   },
   "cell_type": "markdown",
   "source": "## Example 3: Single Filter - Number\n\nFilter by numeric properties using comparison operators."
  },
  {
   "cell_type": "code",
   "metadata": {
    "ExecuteTime": {
     "end_time": "2025-10-17T08:59:52.876057Z",
     "start_time": "2025-10-17T08:59:52.422856Z"
    }
   },
   "source": "// Query high-score tasks (Score > 80)\nval highScoreTasks = runBlocking {\n    notion.dataSources.query(dataSourceId) {\n        filter {\n            number(\"Score\").greaterThan(80.0)\n        }\n    }\n}\n\nprintln(\"✅ High-score tasks (>80): ${highScoreTasks.size} results\")\nhighScoreTasks.forEach { page ->\n    val name = page.getTitleAsPlainText(\"Name\")\n    val score = page.getNumberProperty(\"Score\")\n    println(\"   - $name (Score: $score)\")\n}",
   "outputs": [
    {
     "name": "stdout",
     "output_type": "stream",
     "text": [
      "✅ High-score tasks (>80): 3 results\n",
      "   - Critical Security Fix (Score: 100.0)\n",
      "   - High Priority Bug Fix (Score: 95.0)\n",
      "   - Finished Task (Score: 85.0)\n"
     ]
    }
   ],
   "execution_count": 11
  },
  {
   "metadata": {
    "ExecuteTime": {
     "end_time": "2025-10-17T07:05:27.119870Z",
     "start_time": "2025-10-17T07:05:25.081922Z"
    }
   },
   "cell_type": "markdown",
   "source": "## Example 4: Single Filter - Title (Text)\n\nFilter by title/text properties using text search operators like `contains`."
  },
  {
   "metadata": {
    "ExecuteTime": {
     "end_time": "2025-10-17T09:00:25.026235Z",
     "start_time": "2025-10-17T09:00:24.617961Z"
    }
   },
   "cell_type": "code",
   "source": "// Query tasks with \"Fix\" in the title\nval fixTasks = runBlocking {\n    notion.dataSources.query(dataSourceId) {\n        filter {\n            title(\"Name\").contains(\"Fix\")\n        }\n    }\n}\n\nprintln(\"✅ Tasks containing 'Fix': ${fixTasks.size} results\")\nfixTasks.forEach { page ->\n    val name = page.getTitleAsPlainText(\"Name\")\n    val category = page.getSelectProperty(\"Category\")\n    println(\"   - $name (Category: ${category?.name})\")\n}",
   "outputs": [
    {
     "name": "stdout",
     "output_type": "stream",
     "text": [
      "✅ Tasks containing 'Fix': 2 results\n",
      "   - Critical Security Fix (Category: Security)\n",
      "   - High Priority Bug Fix (Category: Bug)\n"
     ]
    }
   ],
   "execution_count": 12
  },
  {
   "metadata": {
    "ExecuteTime": {
     "end_time": "2025-10-17T07:05:31.785382Z",
     "start_time": "2025-10-17T07:05:31.385049Z"
    }
   },
   "cell_type": "markdown",
   "source": "## Example 5: Single Filter - Select\n\nFilter by select properties to find pages with specific values."
  },
  {
   "metadata": {
    "ExecuteTime": {
     "end_time": "2025-10-17T09:00:46.528690Z",
     "start_time": "2025-10-17T09:00:46.000238Z"
    }
   },
   "cell_type": "code",
   "source": "// Query high priority tasks\nval highPriorityTasks = runBlocking {\n    notion.dataSources.query(dataSourceId) {\n        filter {\n            select(\"Priority\").equals(\"High\")\n        }\n    }\n}\n\nprintln(\"✅ High priority tasks: ${highPriorityTasks.size} results\")\nhighPriorityTasks.forEach { page ->\n    val name = page.getTitleAsPlainText(\"Name\")\n    val status = page.getSelectProperty(\"Status\")\n    val score = page.getNumberProperty(\"Score\")\n    println(\"   - $name (Status: ${status?.name}, Score: $score)\")\n}",
   "outputs": [
    {
     "name": "stdout",
     "output_type": "stream",
     "text": [
      "✅ High priority tasks: 3 results\n",
      "   - Critical Security Fix (Status: In Progress, Score: 100.0)\n",
      "   - High Priority Bug Fix (Status: In Progress, Score: 95.0)\n",
      "   - Finished Task (Status: Done, Score: 85.0)\n"
     ]
    }
   ],
   "execution_count": 13
  },
  {
   "metadata": {
    "ExecuteTime": {
     "end_time": "2025-10-17T07:05:35.712061Z",
     "start_time": "2025-10-17T07:05:35.318404Z"
    }
   },
   "cell_type": "markdown",
   "source": "## Example 6: Complex Filter - AND Logic\n\nCombine multiple conditions with AND logic to narrow down results. All conditions must be true."
  },
  {
   "metadata": {
    "ExecuteTime": {
     "end_time": "2025-10-17T09:01:01.384276Z",
     "start_time": "2025-10-17T09:01:00.912911Z"
    }
   },
   "cell_type": "code",
   "source": "// Query: Incomplete tasks with high scores (Score > 70 AND Completed = false)\nval incompleteHighScore = runBlocking {\n    notion.dataSources.query(dataSourceId) {\n        filter {\n            and(\n                checkbox(\"Completed\").equals(false),\n                number(\"Score\").greaterThan(70.0)\n            )\n        }\n    }\n}\n\nprintln(\"✅ Incomplete high-score tasks (>70, not completed): ${incompleteHighScore.size} results\")\nincompleteHighScore.forEach { page ->\n    val name = page.getTitleAsPlainText(\"Name\")\n    val score = page.getNumberProperty(\"Score\")\n    val priority = page.getSelectProperty(\"Priority\")\n    println(\"   - $name (Score: $score, Priority: ${priority?.name})\")\n}",
   "outputs": [
    {
     "name": "stdout",
     "output_type": "stream",
     "text": [
      "✅ Incomplete high-score tasks (>70, not completed): 4 results\n",
      "   - Complete Documentation (Score: 75.0, Priority: Medium)\n",
      "   - Write Unit Tests (Score: 80.0, Priority: Medium)\n",
      "   - Critical Security Fix (Score: 100.0, Priority: High)\n",
      "   - High Priority Bug Fix (Score: 95.0, Priority: High)\n"
     ]
    }
   ],
   "execution_count": 14
  },
  {
   "cell_type": "markdown",
   "source": "## Example 7: Complex Filter - OR Logic\n\nUse OR logic to match pages that satisfy at least one condition.",
   "metadata": {
    "ExecuteTime": {
     "end_time": "2025-10-17T07:08:30.231644Z",
     "start_time": "2025-10-17T07:08:29.411645Z"
    }
   }
  },
  {
   "metadata": {
    "ExecuteTime": {
     "end_time": "2025-10-17T09:01:24.829876Z",
     "start_time": "2025-10-17T09:01:24.427749Z"
    }
   },
   "cell_type": "code",
   "source": "// Query: Either Bug or Security category\nval bugOrSecurity = runBlocking {\n    notion.dataSources.query(dataSourceId) {\n        filter {\n            or(\n                select(\"Category\").equals(\"Bug\"),\n                select(\"Category\").equals(\"Security\")\n            )\n        }\n    }\n}\n\nprintln(\"✅ Bug or Security tasks: ${bugOrSecurity.size} results\")\nbugOrSecurity.forEach { page ->\n    val name = page.getTitleAsPlainText(\"Name\")\n    val category = page.getSelectProperty(\"Category\")\n    val status = page.getSelectProperty(\"Status\")\n    println(\"   - $name (Category: ${category?.name}, Status: ${status?.name})\")\n}",
   "outputs": [
    {
     "name": "stdout",
     "output_type": "stream",
     "text": [
      "✅ Bug or Security tasks: 3 results\n",
      "   - Another Done Task (Category: Bug, Status: Done)\n",
      "   - Critical Security Fix (Category: Security, Status: In Progress)\n",
      "   - High Priority Bug Fix (Category: Bug, Status: In Progress)\n"
     ]
    }
   ],
   "execution_count": 15
  },
  {
   "cell_type": "markdown",
   "source": "## Example 8: Nested Filters - AND + OR\n\nYou can nest AND/OR logic to create complex query conditions.",
   "metadata": {}
  },
  {
   "cell_type": "code",
   "source": "// Query: (High priority OR high score) AND incomplete\nval criticalIncomplete = runBlocking {\n    notion.dataSources.query(dataSourceId) {\n        filter {\n            and(\n                or(\n                    select(\"Priority\").equals(\"High\"),\n                    number(\"Score\").greaterThanOrEqualTo(90.0)\n                ),\n                checkbox(\"Completed\").equals(false)\n            )\n        }\n    }\n}\n\nprintln(\"✅ Critical incomplete tasks: ${criticalIncomplete.size} results\")\ncriticalIncomplete.forEach { page ->\n    val name = page.getTitleAsPlainText(\"Name\")\n    val score = page.getNumberProperty(\"Score\")\n    val priority = page.getSelectProperty(\"Priority\")\n    println(\"   - $name (Score: $score, Priority: ${priority?.name})\")\n}",
   "metadata": {
    "ExecuteTime": {
     "end_time": "2025-10-17T09:01:51.543985Z",
     "start_time": "2025-10-17T09:01:51.129327Z"
    }
   },
   "outputs": [
    {
     "name": "stdout",
     "output_type": "stream",
     "text": [
      "✅ Critical incomplete tasks: 2 results\n",
      "   - Critical Security Fix (Score: 100.0, Priority: High)\n",
      "   - High Priority Bug Fix (Score: 95.0, Priority: High)\n"
     ]
    }
   ],
   "execution_count": 16
  },
  {
   "cell_type": "markdown",
   "source": "## Example 9: Sorting - Single Property\n\nSort results by a single property in ascending or descending order.",
   "metadata": {}
  },
  {
   "cell_type": "code",
   "source": [
    "// Query all tasks, sorted by Score descending\n",
    "val sortedByScore = runBlocking {\n",
    "    notion.dataSources.query(dataSourceId) {\n",
    "        sortBy(\"Score\", SortDirection.DESCENDING)\n",
    "    }\n",
    "}\n",
    "\n",
    "val numberOfItemsToShow = 3\n",
    "println(\"✅ Tasks sorted by Score (descending): ${sortedByScore.size} results. Showing Top $numberOfItemsToShow:\")\n",
    "sortedByScore.take(numberOfItemsToShow).forEach { page ->\n",
    "    val name = page.getTitleAsPlainText(\"Name\")\n",
    "    val score = page.getNumberProperty(\"Score\")\n",
    "    println(\"   - $name (Score: $score)\")\n",
    "}"
   ],
   "metadata": {
    "ExecuteTime": {
     "end_time": "2025-10-17T09:03:54.112614Z",
     "start_time": "2025-10-17T09:03:53.634258Z"
    }
   },
   "outputs": [
    {
     "name": "stdout",
     "output_type": "stream",
     "text": [
      "✅ Tasks sorted by Score (descending): 8 results. Showing Top 3:\n",
      "   - Critical Security Fix (Score: 100.0)\n",
      "   - High Priority Bug Fix (Score: 95.0)\n",
      "   - Finished Task (Score: 85.0)\n"
     ]
    }
   ],
   "execution_count": 18
  },
  {
   "cell_type": "markdown",
   "source": "## Example 10: Combined Filtering and Sorting\n\nCombine filters and sorting to get precise, ordered results.",
   "metadata": {}
  },
  {
   "cell_type": "code",
   "source": "// Query incomplete tasks, sorted by score descending\nval incompleteByScore = runBlocking {\n    notion.dataSources.query(dataSourceId) {\n        filter {\n            checkbox(\"Completed\").equals(false)\n        }\n        sortBy(\"Score\", SortDirection.DESCENDING)\n    }\n}\n\nprintln(\"✅ Incomplete tasks by score: ${incompleteByScore.size} results\")\nincompleteByScore.forEach { page ->\n    val name = page.getTitleAsPlainText(\"Name\")\n    val score = page.getNumberProperty(\"Score\")\n    val status = page.getSelectProperty(\"Status\")\n    println(\"   - $name (Score: $score, Status: ${status?.name})\")\n}",
   "metadata": {
    "ExecuteTime": {
     "end_time": "2025-10-17T09:04:24.437476Z",
     "start_time": "2025-10-17T09:04:23.942515Z"
    }
   },
   "outputs": [
    {
     "name": "stdout",
     "output_type": "stream",
     "text": [
      "✅ Incomplete tasks by score: 5 results\n",
      "   - Critical Security Fix (Score: 100.0, Status: In Progress)\n",
      "   - High Priority Bug Fix (Score: 95.0, Status: In Progress)\n",
      "   - Write Unit Tests (Score: 80.0, Status: In Progress)\n",
      "   - Complete Documentation (Score: 75.0, Status: To Do)\n",
      "   - Refactor Old Code (Score: 50.0, Status: To Do)\n"
     ]
    }
   ],
   "execution_count": 19
  },
  {
   "cell_type": "markdown",
   "source": "## Example 11: Pagination\n\nControl page size for large result sets. The Notion API automatically fetches all pages.",
   "metadata": {}
  },
  {
   "cell_type": "code",
   "source": "// Query with page size of 3 (API will automatically fetch all pages)\nval paginatedResults = runBlocking {\n    notion.dataSources.query(dataSourceId) {\n        pageSize(3)\n    }\n}\n\nprintln(\"✅ Pagination example (page size: 3)\")\nprintln(\"   Total results: ${paginatedResults.size} (API automatically fetched all pages)\")\nprintln(\"   First 3 results:\")\npaginatedResults.take(3).forEach { page ->\n    val name = page.getTitleAsPlainText(\"Name\")\n    println(\"   - $name\")\n}",
   "metadata": {
    "ExecuteTime": {
     "end_time": "2025-10-17T09:04:54.919090Z",
     "start_time": "2025-10-17T09:04:54.514697Z"
    }
   },
   "outputs": [
    {
     "name": "stdout",
     "output_type": "stream",
     "text": [
      "✅ Pagination example (page size: 3)\n",
      "   Total results: 8 (API automatically fetched all pages)\n",
      "   First 3 results:\n",
      "   - Another Done Task\n",
      "   - Complete Documentation\n",
      "   - Write Unit Tests\n"
     ]
    }
   ],
   "execution_count": 20
  },
  {
   "cell_type": "markdown",
   "source": "## Summary\n\nIn this notebook, we explored advanced query features comprehensively:\n\n### Query Operations\n- **Simple queries**: Retrieve all pages without filters\n- **Single filters**: Filter by checkbox, number, title/text, select properties\n- **Complex filters**: Combine conditions with AND/OR logic\n- **Nested filters**: Mix AND/OR for sophisticated query logic\n- **Sorting**: Sort by single property (ascending/descending)\n- **Combined operations**: Filter + sort in one query\n- **Pagination**: Control page size (API automatically fetches all pages)\n\n### Filter Types Demonstrated\n- **Checkbox**: `checkbox(\"property\").equals(true/false)`\n- **Number**: `number(\"property\").greaterThan(value)`, `greaterThanOrEqualTo()`, `lessThan()`, `lessThanOrEqualTo()`, `equals()`\n- **Title/Text**: `title(\"property\").contains(\"text\")`, `startsWith()`, `endsWith()`, `equals()`\n- **Select**: `select(\"property\").equals(\"value\")`, `doesNotEqual()`\n\n### Logic Operators\n- **AND**: `and(condition1, condition2, ...)` - All conditions must be true\n- **OR**: `or(condition1, condition2, ...)` - At least one condition must be true\n- **Nested**: Combine AND/OR for complex logic like `and(or(...), ...)`\n\n### Sorting Options\n- **Ascending**: `sortBy(\"property\", SortDirection.ASCENDING)`\n- **Descending**: `sortBy(\"property\", SortDirection.DESCENDING)`\n\n### Performance Patterns\n1. **Concurrent page creation**: Use `async`/`awaitAll` for batch operations\n2. **Filter at query time**: Let Notion filter data server-side for better performance\n3. **Sort server-side**: Use `sortBy()` rather than sorting results in code\n4. **Pagination**: API automatically handles pagination, fetching all results\n\n### Best Practices\n1. **Type-safe queries**: Use DSL methods rather than raw JSON\n2. **Specific filters**: More specific filters = faster queries\n3. **Property accessors**: Use `getTitleAsPlainText()`, `getNumberProperty()`, etc. for safe property access\n4. **Error handling**: Properties may be null, handle gracefully\n5. **API delays**: Use `delay()` after bulk operations to allow indexing\n\n### Real-World Query Examples\n- Find high-priority incomplete tasks\n- Get completed tasks sorted by score\n- Find bugs or security issues\n- Complex criteria: (High priority OR score >= 90) AND incomplete\n\n## Cleanup\n\nLet's clean up by archiving the test database and all created pages.",
   "metadata": {}
  },
  {
   "cell_type": "code",
   "source": "runBlocking {\n    // Archive all created pages\n    pages.forEach { page ->\n        notion.pages.archive(page.id)\n        delay(100)\n    }\n    \n    // Archive the database\n    notion.databases.archive(database.id)\n}\n\nprintln(\"✅ Test database and all pages archived successfully!\")\nprintln(\"🎉 Advanced Queries notebook completed!\")",
   "metadata": {
    "ExecuteTime": {
     "end_time": "2025-10-17T09:06:18.044643Z",
     "start_time": "2025-10-17T09:06:09.203598Z"
    }
   },
   "outputs": [
    {
     "name": "stdout",
     "output_type": "stream",
     "text": [
      "✅ Test database and all pages archived successfully!\n",
      "🎉 Advanced Queries notebook completed!\n"
     ]
    }
   ],
   "execution_count": 21
  }
 ],
 "metadata": {
  "kernelspec": {
   "display_name": "Kotlin",
   "language": "kotlin",
   "name": "kotlin"
  },
  "language_info": {
   "codemirror_mode": "text/x-kotlin",
   "file_extension": ".kt",
   "mimetype": "text/x-kotlin",
   "name": "kotlin",
   "nbconvert_exporter": "",
   "pygments_lexer": "kotlin",
   "version": "1.9.0"
  }
 },
 "nbformat": 4,
 "nbformat_minor": 4
}
